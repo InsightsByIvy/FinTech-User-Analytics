{
 "cells": [
  {
   "cell_type": "markdown",
   "id": "5e6d013e",
   "metadata": {},
   "source": [
    "# FinTech User Analytics - Business Intelligence & Statistical Analysis"
   ]
  },
  {
   "cell_type": "markdown",
   "id": "e7ebfaaa",
   "metadata": {},
   "source": [
    "## Overview\n",
    "\n",
    "This notebook conducts statistical analysis and creates foundational visualisations for the cleaned FinTech user dataset. The analysis focuses on churn patterns, product adoption insights, and user engagement trends to prepare data insights for interactive Tableau dashboard development.\n",
    "\n",
    "**Key Objectives:**\n",
    " * Validate business hypotheses using statistical tests\n",
    " * Identify key patterns in churn, rewards, referrals, and platform usage\n",
    " * Create foundational visualisations to guide dashboard design\n",
    " * Generate statistical summaries for business stakeholders"
   ]
  },
  {
   "cell_type": "markdown",
   "id": "e7a6e3dd",
   "metadata": {},
   "source": [
    "## 1. Environment Setup & Data Loading"
   ]
  },
  {
   "cell_type": "code",
   "execution_count": 1,
   "id": "e50ef775",
   "metadata": {},
   "outputs": [],
   "source": [
    "# Import necessary libraries\n",
    "import pandas as pd\n",
    "import numpy as np\n",
    "import matplotlib.pyplot as plt\n",
    "import seaborn as sns\n",
    "import scipy.stats as stats\n",
    "from scipy.stats import chi2_contingency, mannwhitneyu, ttest_ind"
   ]
  },
  {
   "cell_type": "code",
   "execution_count": 3,
   "id": "1cd068b5",
   "metadata": {},
   "outputs": [
    {
     "name": "stdout",
     "output_type": "stream",
     "text": [
      "Dataset Overview:\n",
      "Shape: (26542, 32)\n",
      "Churn Rate: 42.1%\n"
     ]
    }
   ],
   "source": [
    "df = pd.read_csv('../Data/Cleaned/cleaned_data.csv')\n",
    "print(f\"Dataset Overview:\")\n",
    "print(f\"Shape: {df.shape}\")\n",
    "print(f\"Churn Rate: {df['churn'].mean():.1%}\")"
   ]
  },
  {
   "cell_type": "markdown",
   "id": "2b5e44c1",
   "metadata": {},
   "source": [
    "## 2. Data Overview"
   ]
  },
  {
   "cell_type": "code",
   "execution_count": 4,
   "id": "ce1a2e71",
   "metadata": {},
   "outputs": [
    {
     "name": "stdout",
     "output_type": "stream",
     "text": [
      "Total Users: 26542\n",
      "Churned Users: 11174\n",
      "Churn Rate: 42.1%\n",
      "Avg Age: 32.2\n",
      "Avg Credit Score: 543\n",
      "App Users: 25292\n",
      "Web Users: 16100\n",
      "Referred Users: 8454\n"
     ]
    }
   ],
   "source": [
    "# Key metrics overview\n",
    "key_metrics = {\n",
    "    'Total Users': len(df),\n",
    "    'Churned Users': df['churn'].sum(),\n",
    "    'Churn Rate': f\"{df['churn'].mean():.1%}\",\n",
    "    'Avg Age': f\"{df['age'].mean():.1f}\",\n",
    "    'Avg Credit Score': f\"{df['credit_score'].mean():.0f}\",\n",
    "    'App Users': df['app_downloaded'].sum(),\n",
    "    'Web Users': df['web_user'].sum(),\n",
    "    'Referred Users': df['is_referred'].sum()\n",
    "}\n",
    "\n",
    "for key, value in key_metrics.items():\n",
    "    print(f\"{key}: {value}\")"
   ]
  },
  {
   "cell_type": "markdown",
   "id": "d1c918d0",
   "metadata": {},
   "source": [
    "## 3. Hypothesis Testing"
   ]
  },
  {
   "cell_type": "markdown",
   "id": "3a806097",
   "metadata": {},
   "source": [
    "### Hypothesis 1: Users with higher rewards are less likely to churn"
   ]
  },
  {
   "cell_type": "code",
   "execution_count": 5,
   "id": "fe58cb78",
   "metadata": {},
   "outputs": [
    {
     "name": "stdout",
     "output_type": "stream",
     "text": [
      "Median rewards - Churned: 15.00\n",
      "Median rewards - Retained: 26.00\n",
      "Mann-Whitney U test p-value: 0.0000\n",
      "Result: ✅ SUPPORTED (α=0.05)\n"
     ]
    }
   ],
   "source": [
    "# Compare rewards between churned and retained users\n",
    "churned_rewards = df[df['churn'] == 1]['rewards_earned']\n",
    "retained_rewards = df[df['churn'] == 0]['rewards_earned']\n",
    "\n",
    "# Statistical test\n",
    "stat, p_value = mannwhitneyu(retained_rewards, churned_rewards, alternative='greater')\n",
    "\n",
    "print(f\"Median rewards - Churned: {churned_rewards.median():.2f}\")\n",
    "print(f\"Median rewards - Retained: {retained_rewards.median():.2f}\")\n",
    "print(f\"Mann-Whitney U test p-value: {p_value:.4f}\")\n",
    "print(f\"Result: {'✅ SUPPORTED' if p_value < 0.05 else '❌ NOT SUPPORTED'} (α=0.05)\")"
   ]
  },
  {
   "cell_type": "markdown",
   "id": "c15dcd7f",
   "metadata": {},
   "source": [
    "### Summary\n",
    "\n",
    "**Method:**  \n",
    "We compared the `rewards_earned` between churned and retained users using the **Mann-Whitney U test**—a non-parametric alternative to the t-test suitable for comparing distributions that are not normally distributed.\n",
    "\n",
    "**Results:**\n",
    "- **Median rewards (Churned):** 15.00\n",
    "- **Median rewards (Retained):** 26.00\n",
    "- **Mann-Whitney U test p-value:** 0.0000\n",
    "\n",
    "**Interpretation:**\n",
    "Since the p-value is far below the significance level (α = 0.05), we **reject the null hypothesis**.  \n",
    "This indicates that **retained users tend to earn significantly more rewards** than users who churn.\n",
    "\n",
    "**Conclusion:**  \n",
    "The hypothesis is **supported**. Reward earnings are positively associated with user retention, suggesting that incentive-based programs may help reduce churn on the platform.\n"
   ]
  },
  {
   "cell_type": "markdown",
   "id": "4c6fb898",
   "metadata": {},
   "source": []
  },
  {
   "cell_type": "markdown",
   "id": "266fea48",
   "metadata": {},
   "source": [
    "### Hypothesis 2: Referred users have better retention and product adoption"
   ]
  },
  {
   "cell_type": "markdown",
   "id": "58d32006",
   "metadata": {},
   "source": [
    "Comparing churn rates between referred and non-referred users using a Chi-Square Test of Independence, which assesses whether there is a significant relationship between referral status and churn.\n",
    "We also evaluate whether referred users are more likely to adopt financial products."
   ]
  },
  {
   "cell_type": "code",
   "execution_count": 7,
   "id": "984cf41a",
   "metadata": {},
   "outputs": [
    {
     "name": "stdout",
     "output_type": "stream",
     "text": [
      "Churn rates:\n",
      "Non-referred: 45.0%\n",
      "Referred: 35.9%\n",
      "Chi-square test p-value: 0.0000\n",
      "Result: SUPPORTED (α=0.05)\n",
      "\n",
      "Credit card adoption:\n",
      "Non-referred: 8.2%\n",
      "Referred: 5.8%\n"
     ]
    }
   ],
   "source": [
    "# Churn rates by referral status\n",
    "referral_churn = df.groupby('is_referred')['churn'].agg(['count', 'sum', 'mean'])\n",
    "referral_churn['churn_rate'] = referral_churn['mean']\n",
    "\n",
    "print(\"Churn rates:\")\n",
    "print(f\"Non-referred: {referral_churn.loc[0, 'churn_rate']:.1%}\")\n",
    "print(f\"Referred: {referral_churn.loc[1, 'churn_rate']:.1%}\")\n",
    "\n",
    "# Chi-square test for independence\n",
    "contingency = pd.crosstab(df['is_referred'], df['churn'])\n",
    "chi2, p_val, dof, expected = chi2_contingency(contingency)\n",
    "print(f\"Chi-square test p-value: {p_val:.4f}\")\n",
    "print(f\"Result: {'SUPPORTED' if p_val < 0.05 else 'NOT SUPPORTED'} (α=0.05)\")\n",
    "\n",
    "# Credit card adoption by referral\n",
    "cc_by_referral = df.groupby('is_referred')['cc_taken'].mean()\n",
    "print(f\"\\nCredit card adoption:\")\n",
    "print(f\"Non-referred: {cc_by_referral[0]:.1%}\")\n",
    "print(f\"Referred: {cc_by_referral[1]:.1%}\")"
   ]
  },
  {
   "cell_type": "markdown",
   "id": "17ec0c5d",
   "metadata": {},
   "source": [
    "## Summary\n",
    "\n",
    "* Referral status has a significant positive impact on user retention, with referred users showing notably lower churn rates than non-referred users. This highlights the effectiveness of referral programs in promoting long-term user engagement.\n",
    "* Referral status does not appear to boost product adoption."
   ]
  },
  {
   "cell_type": "markdown",
   "id": "08735c55",
   "metadata": {},
   "source": [
    "## Hypothesis 3: App users show higher engagement than web-only users"
   ]
  },
  {
   "cell_type": "markdown",
   "id": "c07a62b9",
   "metadata": {},
   "source": [
    "An engagement score is created based on total user activity, including purchases, partner purchases, deposits, credit card adoption, and rewards earned (scaled). We then compared engagement between:\n",
    "\n",
    " * App users – users who downloaded the app\n",
    " * Web-only users – users who accessed via web but did not download the app\n",
    "\n",
    "A **two-sample t-test** was used to assess whether the mean engagement of app users is significantly different from that of web-only users."
   ]
  },
  {
   "cell_type": "code",
   "execution_count": 8,
   "id": "a1db1519",
   "metadata": {},
   "outputs": [
    {
     "name": "stdout",
     "output_type": "stream",
     "text": [
      "Mean engagement - App users: 39.10\n",
      "Mean engagement - Web only: 0.01\n",
      "T-test p-value: 0.0000\n",
      "Result: SUPPORTED (α=0.05)\n"
     ]
    }
   ],
   "source": [
    "# Create engagement score\n",
    "df['engagement_score'] = (\n",
    "    df['purchases'] + df['purchases_partners'] + \n",
    "    df['deposits'] + df['cc_taken'] + df['rewards_earned']/10\n",
    ")\n",
    "\n",
    "# Compare app vs web-only users\n",
    "app_users = df[df['app_downloaded'] == 1]['engagement_score']\n",
    "web_only = df[(df['web_user'] == 1) & (df['app_downloaded'] == 0)]['engagement_score']\n",
    "\n",
    "print(f\"Mean engagement - App users: {app_users.mean():.2f}\")\n",
    "print(f\"Mean engagement - Web only: {web_only.mean():.2f}\")\n",
    "\n",
    "# Statistical test\n",
    "stat, p_val = ttest_ind(app_users, web_only)\n",
    "print(f\"T-test p-value: {p_val:.4f}\")\n",
    "print(f\"Result: {'SUPPORTED' if p_val < 0.05 else 'NOT SUPPORTED'} (α=0.05)\")"
   ]
  },
  {
   "cell_type": "markdown",
   "id": "c0f869cb",
   "metadata": {},
   "source": [
    "## Summary\n",
    "\n",
    "App users are significantly more engaged than web-only users, indicating that encouraging app downloads could be a key driver of user activity and platform involvement. Mobile channels appear to promote deeper user interaction and should be prioritised in user acquisition and retention strategies."
   ]
  }
 ],
 "metadata": {
  "kernelspec": {
   "display_name": ".venv",
   "language": "python",
   "name": ".venv"
  },
  "language_info": {
   "codemirror_mode": {
    "name": "ipython",
    "version": 3
   },
   "file_extension": ".py",
   "mimetype": "text/x-python",
   "name": "python",
   "nbconvert_exporter": "python",
   "pygments_lexer": "ipython3",
   "version": "3.12.8"
  }
 },
 "nbformat": 4,
 "nbformat_minor": 5
}
