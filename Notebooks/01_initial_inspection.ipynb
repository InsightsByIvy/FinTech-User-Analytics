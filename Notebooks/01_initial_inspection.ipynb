{
 "cells": [
  {
   "cell_type": "markdown",
   "id": "f503264b",
   "metadata": {},
   "source": [
    "## Initial Inspection of FinTech Users Data"
   ]
  },
  {
   "cell_type": "markdown",
   "id": "6a9134ac",
   "metadata": {},
   "source": [
    "## 1. Dataset Overview\n",
    "Source: [Kaggle link](https://www.kaggle.com/datasets/niketdheeryan/fintech-users-data)"
   ]
  },
  {
   "cell_type": "markdown",
   "id": "5a7bdba3",
   "metadata": {},
   "source": [
    "## 2. Data Loading"
   ]
  },
  {
   "cell_type": "code",
   "execution_count": 6,
   "id": "7b54b20a",
   "metadata": {},
   "outputs": [],
   "source": [
    "# Import necessary libraries\n",
    "import pandas as pd\n",
    "import numpy as np\n",
    "import matplotlib.pyplot as plt\n",
    "import seaborn as sns"
   ]
  },
  {
   "cell_type": "markdown",
   "id": "7f423036",
   "metadata": {},
   "source": [
    "The dataset was loaded using pandas from a CSV file using the `read_csv()` function:\n"
   ]
  },
  {
   "cell_type": "code",
   "execution_count": 7,
   "id": "494ef1d9",
   "metadata": {},
   "outputs": [
    {
     "data": {
      "text/html": [
       "<div>\n",
       "<style scoped>\n",
       "    .dataframe tbody tr th:only-of-type {\n",
       "        vertical-align: middle;\n",
       "    }\n",
       "\n",
       "    .dataframe tbody tr th {\n",
       "        vertical-align: top;\n",
       "    }\n",
       "\n",
       "    .dataframe thead th {\n",
       "        text-align: right;\n",
       "    }\n",
       "</style>\n",
       "<table border=\"1\" class=\"dataframe\">\n",
       "  <thead>\n",
       "    <tr style=\"text-align: right;\">\n",
       "      <th></th>\n",
       "      <th>user</th>\n",
       "      <th>churn</th>\n",
       "      <th>age</th>\n",
       "      <th>housing</th>\n",
       "      <th>credit_score</th>\n",
       "      <th>deposits</th>\n",
       "      <th>withdrawal</th>\n",
       "      <th>purchases_partners</th>\n",
       "      <th>purchases</th>\n",
       "      <th>cc_taken</th>\n",
       "      <th>...</th>\n",
       "      <th>waiting_4_loan</th>\n",
       "      <th>cancelled_loan</th>\n",
       "      <th>received_loan</th>\n",
       "      <th>rejected_loan</th>\n",
       "      <th>zodiac_sign</th>\n",
       "      <th>left_for_two_month_plus</th>\n",
       "      <th>left_for_one_month</th>\n",
       "      <th>rewards_earned</th>\n",
       "      <th>reward_rate</th>\n",
       "      <th>is_referred</th>\n",
       "    </tr>\n",
       "  </thead>\n",
       "  <tbody>\n",
       "    <tr>\n",
       "      <th>0</th>\n",
       "      <td>55409</td>\n",
       "      <td>0</td>\n",
       "      <td>37.0</td>\n",
       "      <td>na</td>\n",
       "      <td>NaN</td>\n",
       "      <td>0</td>\n",
       "      <td>0</td>\n",
       "      <td>0</td>\n",
       "      <td>0</td>\n",
       "      <td>0</td>\n",
       "      <td>...</td>\n",
       "      <td>0</td>\n",
       "      <td>0</td>\n",
       "      <td>0</td>\n",
       "      <td>0</td>\n",
       "      <td>Leo</td>\n",
       "      <td>1</td>\n",
       "      <td>0</td>\n",
       "      <td>NaN</td>\n",
       "      <td>0.00</td>\n",
       "      <td>0</td>\n",
       "    </tr>\n",
       "    <tr>\n",
       "      <th>1</th>\n",
       "      <td>23547</td>\n",
       "      <td>0</td>\n",
       "      <td>28.0</td>\n",
       "      <td>R</td>\n",
       "      <td>486.0</td>\n",
       "      <td>0</td>\n",
       "      <td>0</td>\n",
       "      <td>1</td>\n",
       "      <td>0</td>\n",
       "      <td>0</td>\n",
       "      <td>...</td>\n",
       "      <td>0</td>\n",
       "      <td>0</td>\n",
       "      <td>0</td>\n",
       "      <td>0</td>\n",
       "      <td>Leo</td>\n",
       "      <td>0</td>\n",
       "      <td>0</td>\n",
       "      <td>44.0</td>\n",
       "      <td>1.47</td>\n",
       "      <td>1</td>\n",
       "    </tr>\n",
       "    <tr>\n",
       "      <th>2</th>\n",
       "      <td>58313</td>\n",
       "      <td>0</td>\n",
       "      <td>35.0</td>\n",
       "      <td>R</td>\n",
       "      <td>561.0</td>\n",
       "      <td>47</td>\n",
       "      <td>2</td>\n",
       "      <td>86</td>\n",
       "      <td>47</td>\n",
       "      <td>0</td>\n",
       "      <td>...</td>\n",
       "      <td>0</td>\n",
       "      <td>0</td>\n",
       "      <td>0</td>\n",
       "      <td>0</td>\n",
       "      <td>Capricorn</td>\n",
       "      <td>1</td>\n",
       "      <td>0</td>\n",
       "      <td>65.0</td>\n",
       "      <td>2.17</td>\n",
       "      <td>0</td>\n",
       "    </tr>\n",
       "    <tr>\n",
       "      <th>3</th>\n",
       "      <td>8095</td>\n",
       "      <td>0</td>\n",
       "      <td>26.0</td>\n",
       "      <td>R</td>\n",
       "      <td>567.0</td>\n",
       "      <td>26</td>\n",
       "      <td>3</td>\n",
       "      <td>38</td>\n",
       "      <td>25</td>\n",
       "      <td>0</td>\n",
       "      <td>...</td>\n",
       "      <td>0</td>\n",
       "      <td>0</td>\n",
       "      <td>0</td>\n",
       "      <td>0</td>\n",
       "      <td>Capricorn</td>\n",
       "      <td>0</td>\n",
       "      <td>0</td>\n",
       "      <td>33.0</td>\n",
       "      <td>1.10</td>\n",
       "      <td>1</td>\n",
       "    </tr>\n",
       "    <tr>\n",
       "      <th>4</th>\n",
       "      <td>61353</td>\n",
       "      <td>1</td>\n",
       "      <td>27.0</td>\n",
       "      <td>na</td>\n",
       "      <td>NaN</td>\n",
       "      <td>0</td>\n",
       "      <td>0</td>\n",
       "      <td>2</td>\n",
       "      <td>0</td>\n",
       "      <td>0</td>\n",
       "      <td>...</td>\n",
       "      <td>0</td>\n",
       "      <td>0</td>\n",
       "      <td>0</td>\n",
       "      <td>0</td>\n",
       "      <td>Aries</td>\n",
       "      <td>1</td>\n",
       "      <td>0</td>\n",
       "      <td>1.0</td>\n",
       "      <td>0.03</td>\n",
       "      <td>0</td>\n",
       "    </tr>\n",
       "  </tbody>\n",
       "</table>\n",
       "<p>5 rows × 31 columns</p>\n",
       "</div>"
      ],
      "text/plain": [
       "    user  churn   age housing  credit_score  deposits  withdrawal  \\\n",
       "0  55409      0  37.0      na           NaN         0           0   \n",
       "1  23547      0  28.0       R         486.0         0           0   \n",
       "2  58313      0  35.0       R         561.0        47           2   \n",
       "3   8095      0  26.0       R         567.0        26           3   \n",
       "4  61353      1  27.0      na           NaN         0           0   \n",
       "\n",
       "   purchases_partners  purchases  cc_taken  ...  waiting_4_loan  \\\n",
       "0                   0          0         0  ...               0   \n",
       "1                   1          0         0  ...               0   \n",
       "2                  86         47         0  ...               0   \n",
       "3                  38         25         0  ...               0   \n",
       "4                   2          0         0  ...               0   \n",
       "\n",
       "   cancelled_loan  received_loan  rejected_loan  zodiac_sign  \\\n",
       "0               0              0              0          Leo   \n",
       "1               0              0              0          Leo   \n",
       "2               0              0              0    Capricorn   \n",
       "3               0              0              0    Capricorn   \n",
       "4               0              0              0        Aries   \n",
       "\n",
       "   left_for_two_month_plus  left_for_one_month  rewards_earned  reward_rate  \\\n",
       "0                        1                   0             NaN         0.00   \n",
       "1                        0                   0            44.0         1.47   \n",
       "2                        1                   0            65.0         2.17   \n",
       "3                        0                   0            33.0         1.10   \n",
       "4                        1                   0             1.0         0.03   \n",
       "\n",
       "   is_referred  \n",
       "0            0  \n",
       "1            1  \n",
       "2            0  \n",
       "3            1  \n",
       "4            0  \n",
       "\n",
       "[5 rows x 31 columns]"
      ]
     },
     "execution_count": 7,
     "metadata": {},
     "output_type": "execute_result"
    }
   ],
   "source": [
    "# Load the dataset\n",
    "df = pd.read_csv('../Data/RAW/Fintech_user.csv')  \n",
    "df.head()  # Display the first few rows of the dataset"
   ]
  },
  {
   "cell_type": "markdown",
   "id": "08fba738",
   "metadata": {},
   "source": [
    "## 3. Data Structure\n",
    "In this section, we examine the structure of the dataset to understand its overall layout and types of data.\n",
    "\n",
    "- **General Info (`df.info()`)**  \n",
    "  Provids a concise summary of the dataset including:\n",
    "  - Total number of entries (rows)\n",
    "  - Number of columns\n",
    "  - Data types for each column\n",
    "  - Number of non-null (non-missing) values\n",
    "  - Memory usage\n",
    "\n",
    "- **Shape of the Dataset (`df.shape`)**  \n",
    "Reveals the number of rows and columns, providing a quick view of the dataset size.\n",
    "\n",
    "- **Column Data Types (`df.dtypes`)**  \n",
    "Identifies the data type of each column (e.g., int64, float64, object), which is essential for determining which types of operations or preprocessing steps are applicable.\n",
    "\n",
    "- **Column Names (`df.columns`)** \n",
    "Lists all feature names to get an overview of what information is included in the dataset."
   ]
  },
  {
   "cell_type": "code",
   "execution_count": 30,
   "id": "1e64b497",
   "metadata": {},
   "outputs": [
    {
     "name": "stdout",
     "output_type": "stream",
     "text": [
      "<class 'pandas.core.frame.DataFrame'>\n",
      "RangeIndex: 27000 entries, 0 to 26999\n",
      "Data columns (total 31 columns):\n",
      " #   Column                   Non-Null Count  Dtype  \n",
      "---  ------                   --------------  -----  \n",
      " 0   user                     27000 non-null  int64  \n",
      " 1   churn                    27000 non-null  int64  \n",
      " 2   age                      26996 non-null  float64\n",
      " 3   housing                  27000 non-null  object \n",
      " 4   credit_score             18969 non-null  float64\n",
      " 5   deposits                 27000 non-null  int64  \n",
      " 6   withdrawal               27000 non-null  int64  \n",
      " 7   purchases_partners       27000 non-null  int64  \n",
      " 8   purchases                27000 non-null  int64  \n",
      " 9   cc_taken                 27000 non-null  int64  \n",
      " 10  cc_recommended           27000 non-null  int64  \n",
      " 11  cc_disliked              27000 non-null  int64  \n",
      " 12  cc_liked                 27000 non-null  int64  \n",
      " 13  cc_application_begin     27000 non-null  int64  \n",
      " 14  app_downloaded           27000 non-null  int64  \n",
      " 15  web_user                 27000 non-null  int64  \n",
      " 16  app_web_user             27000 non-null  int64  \n",
      " 17  ios_user                 27000 non-null  int64  \n",
      " 18  android_user             27000 non-null  int64  \n",
      " 19  registered_phones        27000 non-null  int64  \n",
      " 20  payment_type             27000 non-null  object \n",
      " 21  waiting_4_loan           27000 non-null  int64  \n",
      " 22  cancelled_loan           27000 non-null  int64  \n",
      " 23  received_loan            27000 non-null  int64  \n",
      " 24  rejected_loan            27000 non-null  int64  \n",
      " 25  zodiac_sign              27000 non-null  object \n",
      " 26  left_for_two_month_plus  27000 non-null  int64  \n",
      " 27  left_for_one_month       27000 non-null  int64  \n",
      " 28  rewards_earned           23773 non-null  float64\n",
      " 29  reward_rate              27000 non-null  float64\n",
      " 30  is_referred              27000 non-null  int64  \n",
      "dtypes: float64(4), int64(24), object(3)\n",
      "memory usage: 6.4+ MB\n"
     ]
    }
   ],
   "source": [
    "# Checking the summary of the dataframe information\n",
    "df.info()"
   ]
  },
  {
   "cell_type": "code",
   "execution_count": 31,
   "id": "9f5d9842",
   "metadata": {},
   "outputs": [
    {
     "name": "stdout",
     "output_type": "stream",
     "text": [
      "Dataset Shape: (27000, 31)\n"
     ]
    }
   ],
   "source": [
    "# Checking dimensions of the dataset\n",
    "print(\"Dataset Shape:\", df.shape)"
   ]
  },
  {
   "cell_type": "code",
   "execution_count": 32,
   "id": "265152ec",
   "metadata": {},
   "outputs": [
    {
     "name": "stdout",
     "output_type": "stream",
     "text": [
      "user                         int64\n",
      "churn                        int64\n",
      "age                        float64\n",
      "housing                     object\n",
      "credit_score               float64\n",
      "deposits                     int64\n",
      "withdrawal                   int64\n",
      "purchases_partners           int64\n",
      "purchases                    int64\n",
      "cc_taken                     int64\n",
      "cc_recommended               int64\n",
      "cc_disliked                  int64\n",
      "cc_liked                     int64\n",
      "cc_application_begin         int64\n",
      "app_downloaded               int64\n",
      "web_user                     int64\n",
      "app_web_user                 int64\n",
      "ios_user                     int64\n",
      "android_user                 int64\n",
      "registered_phones            int64\n",
      "payment_type                object\n",
      "waiting_4_loan               int64\n",
      "cancelled_loan               int64\n",
      "received_loan                int64\n",
      "rejected_loan                int64\n",
      "zodiac_sign                 object\n",
      "left_for_two_month_plus      int64\n",
      "left_for_one_month           int64\n",
      "rewards_earned             float64\n",
      "reward_rate                float64\n",
      "is_referred                  int64\n",
      "dtype: object\n"
     ]
    }
   ],
   "source": [
    "# Checking data types\n",
    "print(df.dtypes)"
   ]
  },
  {
   "cell_type": "code",
   "execution_count": 33,
   "id": "27af5cbf",
   "metadata": {},
   "outputs": [
    {
     "name": "stdout",
     "output_type": "stream",
     "text": [
      "Column Names: Index(['user', 'churn', 'age', 'housing', 'credit_score', 'deposits',\n",
      "       'withdrawal', 'purchases_partners', 'purchases', 'cc_taken',\n",
      "       'cc_recommended', 'cc_disliked', 'cc_liked', 'cc_application_begin',\n",
      "       'app_downloaded', 'web_user', 'app_web_user', 'ios_user',\n",
      "       'android_user', 'registered_phones', 'payment_type', 'waiting_4_loan',\n",
      "       'cancelled_loan', 'received_loan', 'rejected_loan', 'zodiac_sign',\n",
      "       'left_for_two_month_plus', 'left_for_one_month', 'rewards_earned',\n",
      "       'reward_rate', 'is_referred'],\n",
      "      dtype='object')\n"
     ]
    }
   ],
   "source": [
    "# Checking column names\n",
    "print(\"Column Names:\", df.columns)"
   ]
  },
  {
   "cell_type": "markdown",
   "id": "aa7d7571",
   "metadata": {},
   "source": [
    "### Initial Observation\n",
    " - Most features are numerical and likely binary flags (0 or 1).\n",
    " - Several columns suggest user engagement funnels (e.g., `cc_liked`, `cc_application_begin`).\n",
    " - A few categorical columns may require encoding before modelling.\n",
    " - Missing values in `credit_score` are substantial and will likely need special handling."
   ]
  },
  {
   "cell_type": "markdown",
   "id": "67cfc90b",
   "metadata": {},
   "source": []
  },
  {
   "cell_type": "markdown",
   "id": "97f3d585",
   "metadata": {},
   "source": [
    "## 4. Missing Values and Duplicates\n",
    "In this step, we assess the quality of the dataset by identifying missing values and duplicate rows.\n",
    "\n",
    "- **Missing Values (`df.isnull().sum()`)**  \n",
    "  Checks each column for missing (null) values. \n",
    "\n",
    "- **Duplicate Rows (`df.duplicated().sum()`)**  \n",
    "  Checks for duplicated records, which can skew analysis if not handled."
   ]
  },
  {
   "cell_type": "code",
   "execution_count": 34,
   "id": "ebee25f0",
   "metadata": {},
   "outputs": [
    {
     "name": "stdout",
     "output_type": "stream",
     "text": [
      "Missing Values:\n",
      " age                  4\n",
      "credit_score      8031\n",
      "rewards_earned    3227\n",
      "dtype: int64\n"
     ]
    }
   ],
   "source": [
    "# Checking for missing values\n",
    "missing_values = df.isnull().sum()\n",
    "print(\"Missing Values:\\n\", missing_values[missing_values > 0])"
   ]
  },
  {
   "cell_type": "code",
   "execution_count": 35,
   "id": "dca2c389",
   "metadata": {},
   "outputs": [
    {
     "name": "stdout",
     "output_type": "stream",
     "text": [
      "Number of Duplicates: 458\n"
     ]
    }
   ],
   "source": [
    "#checking for duplicates\n",
    "duplicates = df.duplicated().sum()\n",
    "print(\"Number of Duplicates:\", duplicates)"
   ]
  },
  {
   "cell_type": "markdown",
   "id": "2e00b655",
   "metadata": {},
   "source": [
    "### Initial Observation\n",
    "\n",
    "The following columns contain missing values:\n",
    "  - `credit_score`: 8,031 missing values (~29.7% of the dataset)\n",
    "  - `rewards_earned`: 3,227 missing values (~11.9%)\n",
    "  - `age`: 4 missing values (negligible)\n",
    "\n",
    "Duplicate Records:  \n",
    "  - **458 duplicate rows** were found in the dataset.\n",
    "  - These rows may be exact duplicates and should be removed to prevent bias in analysis or model training.\n",
    "\n",
    "These will need to be addressed in data cleaning.  \n",
    "  - `age` can likely be imputed with the median or mean.\n",
    "  - `credit_score` may require more careful treatment due to its high missingness."
   ]
  },
  {
   "cell_type": "markdown",
   "id": "a41dd62b",
   "metadata": {},
   "source": []
  },
  {
   "cell_type": "markdown",
   "id": "cf85eef3",
   "metadata": {},
   "source": [
    "## 5. Summary Statistics\n",
    "To gain an initial understanding of the values in each feature, we compute summary statistics for both numerical and categorical columns.\n",
    "\n",
    "- **Numerical Columns Summary (`df.describe()`)**  \n",
    "  Displays count, mean, standard deviation, min, max, and quartile values (25%, 50%, 75%) for all numerical features.\n",
    "\n",
    "- **Categorical Columns Summary (`df.describe(include='object')`)**  \n",
    "  Provides summary metrics for categorical (object-type) columns"
   ]
  },
  {
   "cell_type": "code",
   "execution_count": 36,
   "id": "5bd62fb7",
   "metadata": {},
   "outputs": [
    {
     "name": "stdout",
     "output_type": "stream",
     "text": [
      "Numerical Summary:\n",
      "                user         churn           age  credit_score      deposits  \\\n",
      "count  27000.000000  27000.000000  26996.000000  18969.000000  27000.000000   \n",
      "mean   35422.702519      0.413852     32.219921    542.944225      3.341556   \n",
      "std    20321.006678      0.492532      9.964838     61.059315      9.131406   \n",
      "min        1.000000      0.000000     17.000000      2.000000      0.000000   \n",
      "25%    17810.500000      0.000000     25.000000    507.000000      0.000000   \n",
      "50%    35749.000000      0.000000     30.000000    542.000000      0.000000   \n",
      "75%    53244.250000      1.000000     37.000000    578.000000      1.000000   \n",
      "max    69658.000000      1.000000     91.000000    838.000000     65.000000   \n",
      "\n",
      "         withdrawal  purchases_partners     purchases      cc_taken  \\\n",
      "count  27000.000000        27000.000000  27000.000000  27000.000000   \n",
      "mean       0.307000           28.062519      3.273481      0.073778   \n",
      "std        1.055416           42.219686      8.953077      0.437299   \n",
      "min        0.000000            0.000000      0.000000      0.000000   \n",
      "25%        0.000000            0.000000      0.000000      0.000000   \n",
      "50%        0.000000            9.000000      0.000000      0.000000   \n",
      "75%        0.000000           43.000000      1.000000      0.000000   \n",
      "max       29.000000         1067.000000     63.000000     29.000000   \n",
      "\n",
      "       cc_recommended  ...  registered_phones  waiting_4_loan  cancelled_loan  \\\n",
      "count    27000.000000  ...       27000.000000    27000.000000    27000.000000   \n",
      "mean        92.625778  ...           0.420926        0.001296        0.018815   \n",
      "std         88.869343  ...           0.912831        0.035981        0.135873   \n",
      "min          0.000000  ...           0.000000        0.000000        0.000000   \n",
      "25%         10.000000  ...           0.000000        0.000000        0.000000   \n",
      "50%         65.000000  ...           0.000000        0.000000        0.000000   \n",
      "75%        164.000000  ...           0.000000        0.000000        0.000000   \n",
      "max        522.000000  ...           5.000000        1.000000        1.000000   \n",
      "\n",
      "       received_loan  rejected_loan  left_for_two_month_plus  \\\n",
      "count   27000.000000   27000.000000             27000.000000   \n",
      "mean        0.018185       0.004889                 0.173444   \n",
      "std         0.133623       0.069751                 0.378638   \n",
      "min         0.000000       0.000000                 0.000000   \n",
      "25%         0.000000       0.000000                 0.000000   \n",
      "50%         0.000000       0.000000                 0.000000   \n",
      "75%         0.000000       0.000000                 0.000000   \n",
      "max         1.000000       1.000000                 1.000000   \n",
      "\n",
      "       left_for_one_month  rewards_earned   reward_rate   is_referred  \n",
      "count        27000.000000    23773.000000  27000.000000  27000.000000  \n",
      "mean             0.018074       29.110125      0.907684      0.318037  \n",
      "std              0.133222       21.973478      0.752016      0.465723  \n",
      "min              0.000000        1.000000      0.000000      0.000000  \n",
      "25%              0.000000        9.000000      0.200000      0.000000  \n",
      "50%              0.000000       25.000000      0.780000      0.000000  \n",
      "75%              0.000000       48.000000      1.530000      1.000000  \n",
      "max              1.000000      114.000000      4.000000      1.000000  \n",
      "\n",
      "[8 rows x 28 columns]\n"
     ]
    }
   ],
   "source": [
    "# Checking numerical summary statistics\n",
    "numerical_summary = df.describe()\n",
    "print(\"Numerical Summary:\\n\", numerical_summary)"
   ]
  },
  {
   "cell_type": "code",
   "execution_count": 37,
   "id": "d5cf0f2b",
   "metadata": {},
   "outputs": [
    {
     "name": "stdout",
     "output_type": "stream",
     "text": [
      "Categorical Summary:\n",
      "        housing payment_type zodiac_sign\n",
      "count    27000        27000       27000\n",
      "unique       3            5          13\n",
      "top         na    Bi-Weekly      Cancer\n",
      "freq     13860        12716        2424\n"
     ]
    }
   ],
   "source": [
    "#Checking categorical summary statistics\n",
    "categorical_summary = df.describe(include=['object'])\n",
    "print(\"Categorical Summary:\\n\", categorical_summary)"
   ]
  },
  {
   "cell_type": "markdown",
   "id": "442fd6d8",
   "metadata": {},
   "source": [
    "### Initial Observation\n",
    "\n",
    "  - A number of columns show strong skew (e.g., `purchases`, `rewards_earned`).\n",
    "  - `credit_score` and `rewards_earned` may contain outliers.\n",
    "  - Categorical columns will need encoding for further analysis.\n",
    "  - Consider treating `'na'` in `housing` as missing during data cleaning.\n",
    "  - `age` ranges from **17 to 91**, with a mean around **32** years."
   ]
  },
  {
   "cell_type": "markdown",
   "id": "c94dc09c",
   "metadata": {},
   "source": []
  },
  {
   "cell_type": "markdown",
   "id": "e347e830",
   "metadata": {},
   "source": [
    "### 6. Data Distribution and Visualisations\n",
    "- Histograms, boxplots for numerical features.\n",
    "- Bar plots for categorical features."
   ]
  },
  {
   "cell_type": "markdown",
   "id": "574c1315",
   "metadata": {},
   "source": [
    "Each histogram below shows the distribution of a numerical feature. \n",
    "The x-axis represents the value range, and the y-axis represents the number of users (not time).\n"
   ]
  },
  {
   "cell_type": "code",
   "execution_count": 43,
   "id": "c5dfa3e9",
   "metadata": {},
   "outputs": [
    {
     "data": {
      "image/png": "[encoded data removed]",
      "text/plain": [
       "<Figure size 600x400 with 1 Axes>"
      ]
     },
     "metadata": {},
     "output_type": "display_data"
    },
    {
     "data": {
      "image/png": "[encoded data removed]",
      "text/plain": [
       "<Figure size 600x400 with 1 Axes>"
      ]
     },
     "metadata": {},
     "output_type": "display_data"
    },
    {
     "data": {
      "image/png": "[encoded data removed]",
      "text/plain": [
       "<Figure size 600x400 with 1 Axes>"
      ]
     },
     "metadata": {},
     "output_type": "display_data"
    },
    {
     "data": {
      "image/png": "[encoded data removed]",
      "text/plain": [
       "<Figure size 600x400 with 1 Axes>"
      ]
     },
     "metadata": {},
     "output_type": "display_data"
    },
    {
     "data": {
      "image/png": "[encoded data removed]",
      "text/plain": [
       "<Figure size 600x400 with 1 Axes>"
      ]
     },
     "metadata": {},
     "output_type": "display_data"
    },
    {
     "data": {
      "image/png": "[encoded data removed]",
      "text/plain": [
       "<Figure size 600x400 with 1 Axes>"
      ]
     },
     "metadata": {},
     "output_type": "display_data"
    }
   ],
   "source": [
    "# Manually define the numerical columns you want to visualize\n",
    "hist_cols = ['age', 'credit_score', 'deposits', 'withdrawal', 'rewards_earned', 'reward_rate']\n",
    "\n",
    "# Plot histograms for each column\n",
    "for col in hist_cols:\n",
    "    if col in df.columns:\n",
    "        plt.figure(figsize=(6, 4))\n",
    "        plt.hist(df[col].dropna(), bins=30, color='skyblue', edgecolor='black')\n",
    "        plt.title(f'Histogram of {col}')\n",
    "        plt.xlabel(col)\n",
    "        plt.ylabel('Number of Users')\n",
    "        plt.tight_layout()\n",
    "        plt.show()\n"
   ]
  },
  {
   "cell_type": "markdown",
   "id": "1b251bcd",
   "metadata": {},
   "source": [
    "### 7. Correlations and Relationships\n",
    "- Correlation matrix.\n",
    "- Scatter plots or pair plots for interesting pairs."
   ]
  },
  {
   "cell_type": "markdown",
   "id": "a2a502c6",
   "metadata": {},
   "source": [
    "### 8. Initial Insights and Next Steps\n",
    "- Summary of findings.\n",
    "- Recommendations for further analysis or cleaning."
   ]
  }
 ],
 "metadata": {
  "kernelspec": {
   "display_name": ".venv",
   "language": "python",
   "name": ".venv"
  },
  "language_info": {
   "codemirror_mode": {
    "name": "ipython",
    "version": 3
   },
   "file_extension": ".py",
   "mimetype": "text/x-python",
   "name": "python",
   "nbconvert_exporter": "python",
   "pygments_lexer": "ipython3",
   "version": "3.12.8"
  }
 },
 "nbformat": 4,
 "nbformat_minor": 5
}
