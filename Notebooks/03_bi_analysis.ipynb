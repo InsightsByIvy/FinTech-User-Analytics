{
 "cells": [
  {
   "cell_type": "markdown",
   "id": "5e6d013e",
   "metadata": {},
   "source": [
    "# FinTech User Analytics - Business Intelligence & Statistical Analysis"
   ]
  },
  {
   "cell_type": "markdown",
   "id": "e7ebfaaa",
   "metadata": {},
   "source": [
    "## Overview\n",
    "\n",
    "This notebook conducts statistical analysis and creates foundational visualisations for the cleaned FinTech user dataset. The analysis focuses on churn patterns, product adoption insights, and user engagement trends to prepare data insights for interactive Tableau dashboard development.\n",
    "\n",
    "**Key Objectives:**\n",
    " * Validate business hypotheses using statistical tests\n",
    " * Identify key patterns in churn, rewards, referrals, and platform usage\n",
    " * Create foundational visualisations to guide dashboard design\n",
    " * Generate statistical summaries for business stakeholders"
   ]
  },
  {
   "cell_type": "markdown",
   "id": "e7a6e3dd",
   "metadata": {},
   "source": [
    "## 1. Environment Setup & Data Loading"
   ]
  },
  {
   "cell_type": "code",
   "execution_count": 1,
   "id": "e50ef775",
   "metadata": {},
   "outputs": [],
   "source": [
    "# Import necessary libraries\n",
    "import pandas as pd\n",
    "import numpy as np\n",
    "import matplotlib.pyplot as plt\n",
    "import seaborn as sns\n",
    "import scipy.stats as stats\n",
    "from scipy.stats import chi2_contingency, mannwhitneyu, ttest_ind"
   ]
  },
  {
   "cell_type": "code",
   "execution_count": 3,
   "id": "1cd068b5",
   "metadata": {},
   "outputs": [
    {
     "name": "stdout",
     "output_type": "stream",
     "text": [
      "Dataset Overview:\n",
      "Shape: (26542, 32)\n",
      "Churn Rate: 42.1%\n"
     ]
    }
   ],
   "source": [
    "df = pd.read_csv('../Data/Cleaned/cleaned_data.csv')\n",
    "print(f\"Dataset Overview:\")\n",
    "print(f\"Shape: {df.shape}\")\n",
    "print(f\"Churn Rate: {df['churn'].mean():.1%}\")"
   ]
  },
  {
   "cell_type": "markdown",
   "id": "2b5e44c1",
   "metadata": {},
   "source": [
    "## 2. Data Overview"
   ]
  },
  {
   "cell_type": "code",
   "execution_count": 4,
   "id": "ce1a2e71",
   "metadata": {},
   "outputs": [
    {
     "name": "stdout",
     "output_type": "stream",
     "text": [
      "Total Users: 26542\n",
      "Churned Users: 11174\n",
      "Churn Rate: 42.1%\n",
      "Avg Age: 32.2\n",
      "Avg Credit Score: 543\n",
      "App Users: 25292\n",
      "Web Users: 16100\n",
      "Referred Users: 8454\n"
     ]
    }
   ],
   "source": [
    "# Key metrics overview\n",
    "key_metrics = {\n",
    "    'Total Users': len(df),\n",
    "    'Churned Users': df['churn'].sum(),\n",
    "    'Churn Rate': f\"{df['churn'].mean():.1%}\",\n",
    "    'Avg Age': f\"{df['age'].mean():.1f}\",\n",
    "    'Avg Credit Score': f\"{df['credit_score'].mean():.0f}\",\n",
    "    'App Users': df['app_downloaded'].sum(),\n",
    "    'Web Users': df['web_user'].sum(),\n",
    "    'Referred Users': df['is_referred'].sum()\n",
    "}\n",
    "\n",
    "for key, value in key_metrics.items():\n",
    "    print(f\"{key}: {value}\")"
   ]
  },
  {
   "cell_type": "markdown",
   "id": "d1c918d0",
   "metadata": {},
   "source": [
    "## 3. Hypothesis Testing"
   ]
  },
  {
   "cell_type": "markdown",
   "id": "3a806097",
   "metadata": {},
   "source": [
    "### Hypothesis 1: Users with higher rewards are less likely to churn"
   ]
  },
  {
   "cell_type": "code",
   "execution_count": 5,
   "id": "fe58cb78",
   "metadata": {},
   "outputs": [
    {
     "name": "stdout",
     "output_type": "stream",
     "text": [
      "Median rewards - Churned: 15.00\n",
      "Median rewards - Retained: 26.00\n",
      "Mann-Whitney U test p-value: 0.0000\n",
      "Result: ✅ SUPPORTED (α=0.05)\n"
     ]
    }
   ],
   "source": [
    "# Compare rewards between churned and retained users\n",
    "churned_rewards = df[df['churn'] == 1]['rewards_earned']\n",
    "retained_rewards = df[df['churn'] == 0]['rewards_earned']\n",
    "\n",
    "# Statistical test\n",
    "stat, p_value = mannwhitneyu(retained_rewards, churned_rewards, alternative='greater')\n",
    "\n",
    "print(f\"Median rewards - Churned: {churned_rewards.median():.2f}\")\n",
    "print(f\"Median rewards - Retained: {retained_rewards.median():.2f}\")\n",
    "print(f\"Mann-Whitney U test p-value: {p_value:.4f}\")\n",
    "print(f\"Result: {'✅ SUPPORTED' if p_value < 0.05 else '❌ NOT SUPPORTED'} (α=0.05)\")"
   ]
  },
  {
   "cell_type": "markdown",
   "id": "c15dcd7f",
   "metadata": {},
   "source": [
    "### Summary\n",
    "\n",
    "**Method:**  \n",
    "We compared the `rewards_earned` between churned and retained users using the **Mann-Whitney U test**—a non-parametric alternative to the t-test suitable for comparing distributions that are not normally distributed.\n",
    "\n",
    "**Results:**\n",
    "- **Median rewards (Churned):** 15.00\n",
    "- **Median rewards (Retained):** 26.00\n",
    "- **Mann-Whitney U test p-value:** 0.0000\n",
    "\n",
    "**Interpretation:**\n",
    "Since the p-value is far below the significance level (α = 0.05), we **reject the null hypothesis**.  \n",
    "This indicates that **retained users tend to earn significantly more rewards** than users who churn.\n",
    "\n",
    "**Conclusion:**  \n",
    "The hypothesis is **supported**. Reward earnings are positively associated with user retention, suggesting that incentive-based programs may help reduce churn on the platform.\n"
   ]
  },
  {
   "cell_type": "markdown",
   "id": "4c6fb898",
   "metadata": {},
   "source": []
  },
  {
   "cell_type": "markdown",
   "id": "266fea48",
   "metadata": {},
   "source": [
    "### Hypothesis 2: Referred users have better retention and product adoption"
   ]
  }
 ],
 "metadata": {
  "kernelspec": {
   "display_name": ".venv",
   "language": "python",
   "name": ".venv"
  },
  "language_info": {
   "codemirror_mode": {
    "name": "ipython",
    "version": 3
   },
   "file_extension": ".py",
   "mimetype": "text/x-python",
   "name": "python",
   "nbconvert_exporter": "python",
   "pygments_lexer": "ipython3",
   "version": "3.12.8"
  }
 },
 "nbformat": 4,
 "nbformat_minor": 5
}
