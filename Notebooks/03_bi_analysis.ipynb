{
 "cells": [
  {
   "cell_type": "markdown",
   "id": "5e6d013e",
   "metadata": {},
   "source": [
    "# FinTech User Analytics - Business Intelligence & Statistical Analysis"
   ]
  },
  {
   "cell_type": "markdown",
   "id": "e7ebfaaa",
   "metadata": {},
   "source": [
    "## Overview\n",
    "\n",
    "This notebook conducts statistical analysis and creates foundational visualisations for the cleaned FinTech user dataset. The analysis focuses on churn patterns, product adoption insights, and user engagement trends to prepare data insights for interactive Tableau dashboard development.\n",
    "\n",
    "Key Objectives:\n",
    " * Validate business hypotheses using statistical tests\n",
    " * Identify key patterns in churn, rewards, referrals, and platform usage\n",
    " * Create foundational visualisations to guide dashboard design\n",
    " * Generate statistical summaries for business stakeholders"
   ]
  }
 ],
 "metadata": {
  "kernelspec": {
   "display_name": ".venv",
   "language": "python",
   "name": ".venv"
  },
  "language_info": {
   "name": "python",
   "version": "3.12.8"
  }
 },
 "nbformat": 4,
 "nbformat_minor": 5
}
