{
 "cells": [
  {
   "cell_type": "markdown",
   "id": "d2372b9d",
   "metadata": {},
   "source": [
    "Objectives\n",
    "Clean data.\n",
    "Convert data types. InvoiceDate is object and not in datetime format.\n",
    "Remove duplicates.\n",
    "Save the cleaned data"
   ]
  },
  {
   "cell_type": "code",
   "execution_count": 1,
   "id": "f50a6469",
   "metadata": {},
   "outputs": [],
   "source": [
    "import pandas as pd"
   ]
  },
  {
   "cell_type": "code",
   "execution_count": 2,
   "id": "5a223676",
   "metadata": {},
   "outputs": [],
   "source": [
    "df = pd.read_csv('../Data/RAW/Fintech_user.csv')"
   ]
  },
  {
   "cell_type": "code",
   "execution_count": null,
   "id": "cea30e99",
   "metadata": {},
   "outputs": [
    {
     "name": "stdout",
     "output_type": "stream",
     "text": [
      "(26542, 31)\n"
     ]
    }
   ],
   "source": [
    "# Removing duplicates\n",
    "df = df.drop_duplicates()\n",
    "print(df.shape)"
   ]
  },
  {
   "cell_type": "markdown",
   "id": "3d8bd10b",
   "metadata": {},
   "source": [
    "Checking which columns have missing values"
   ]
  },
  {
   "cell_type": "code",
   "execution_count": 4,
   "id": "3371daa9",
   "metadata": {},
   "outputs": [
    {
     "data": {
      "text/plain": [
       "user                       False\n",
       "churn                      False\n",
       "age                         True\n",
       "housing                    False\n",
       "credit_score                True\n",
       "deposits                   False\n",
       "withdrawal                 False\n",
       "purchases_partners         False\n",
       "purchases                  False\n",
       "cc_taken                   False\n",
       "cc_recommended             False\n",
       "cc_disliked                False\n",
       "cc_liked                   False\n",
       "cc_application_begin       False\n",
       "app_downloaded             False\n",
       "web_user                   False\n",
       "app_web_user               False\n",
       "ios_user                   False\n",
       "android_user               False\n",
       "registered_phones          False\n",
       "payment_type               False\n",
       "waiting_4_loan             False\n",
       "cancelled_loan             False\n",
       "received_loan              False\n",
       "rejected_loan              False\n",
       "zodiac_sign                False\n",
       "left_for_two_month_plus    False\n",
       "left_for_one_month         False\n",
       "rewards_earned              True\n",
       "reward_rate                False\n",
       "is_referred                False\n",
       "dtype: bool"
      ]
     },
     "execution_count": 4,
     "metadata": {},
     "output_type": "execute_result"
    }
   ],
   "source": [
    "df.isnull().any()"
   ]
  },
  {
   "cell_type": "markdown",
   "id": "94c5025d",
   "metadata": {},
   "source": [
    "After checking for null values in the dataset, the following columns were found to contain missing values:\n",
    "Column\t| Missing Values\n",
    "age\t| 4\n",
    "credit_score |\t7,789\n",
    "rewards_earned |\t3,163"
   ]
  },
  {
   "cell_type": "code",
   "execution_count": 5,
   "id": "60a6c731",
   "metadata": {},
   "outputs": [
    {
     "data": {
      "text/plain": [
       "age                  4\n",
       "credit_score      7789\n",
       "rewards_earned    3163\n",
       "dtype: int64"
      ]
     },
     "execution_count": 5,
     "metadata": {},
     "output_type": "execute_result"
    }
   ],
   "source": [
    "df[['age', 'credit_score', 'rewards_earned']].isnull().sum()\n"
   ]
  },
  {
   "cell_type": "markdown",
   "id": "791d481d",
   "metadata": {},
   "source": [
    "Strategy: Filled missing values with the median age. Reasoning: The number of missing entries is minimal and using the median prevents skewing from outliers."
   ]
  },
  {
   "cell_type": "code",
   "execution_count": null,
   "id": "ef2dd610",
   "metadata": {},
   "outputs": [],
   "source": [
    "df['age'].fillna(df['age'].median(), inplace=True)\n"
   ]
  },
  {
   "cell_type": "code",
   "execution_count": null,
   "id": "7801a2ad",
   "metadata": {},
   "outputs": [],
   "source": [
    "df['rewards_earned'].fillna(0, inplace=True)\n"
   ]
  }
 ],
 "metadata": {
  "kernelspec": {
   "display_name": ".venv",
   "language": "python",
   "name": ".venv"
  },
  "language_info": {
   "codemirror_mode": {
    "name": "ipython",
    "version": 3
   },
   "file_extension": ".py",
   "mimetype": "text/x-python",
   "name": "python",
   "nbconvert_exporter": "python",
   "pygments_lexer": "ipython3",
   "version": "3.12.8"
  }
 },
 "nbformat": 4,
 "nbformat_minor": 5
}
