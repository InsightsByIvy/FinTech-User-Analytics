{
 "cells": [
  {
   "cell_type": "markdown",
   "id": "f4b12255",
   "metadata": {},
   "source": [
    "# Data Cleaning Notebook"
   ]
  },
  {
   "cell_type": "markdown",
   "id": "d2372b9d",
   "metadata": {},
   "source": [
    "## Objective\n",
    "The goal of this notebook is to prepare the dataset for analysis and modelling by identifying and addressing data quality issues. This includes handling missing values, correcting data types, managing duplicates, and standardising inconsistent entries."
   ]
  },
  {
   "cell_type": "code",
   "execution_count": 1,
   "id": "f50a6469",
   "metadata": {},
   "outputs": [],
   "source": [
    "# Import necessary libraries\n",
    "import pandas as pd\n",
    "import numpy as np"
   ]
  },
  {
   "cell_type": "code",
   "execution_count": 2,
   "id": "5a223676",
   "metadata": {},
   "outputs": [],
   "source": [
    "# Load the dataset\n",
    "df = pd.read_csv('../Data/RAW/Fintech_user.csv')"
   ]
  },
  {
   "cell_type": "markdown",
   "id": "d6e4bed0",
   "metadata": {},
   "source": [
    "## Data Cleaning Process"
   ]
  },
  {
   "cell_type": "code",
   "execution_count": 3,
   "id": "cea30e99",
   "metadata": {},
   "outputs": [
    {
     "name": "stdout",
     "output_type": "stream",
     "text": [
      "(26542, 31)\n"
     ]
    }
   ],
   "source": [
    "# Removing duplicates\n",
    "df = df.drop_duplicates()\n",
    "print(df.shape)"
   ]
  },
  {
   "cell_type": "markdown",
   "id": "3d8bd10b",
   "metadata": {},
   "source": [
    "Checking which columns have missing values"
   ]
  },
  {
   "cell_type": "code",
   "execution_count": 4,
   "id": "3371daa9",
   "metadata": {},
   "outputs": [
    {
     "data": {
      "text/plain": [
       "user                       False\n",
       "churn                      False\n",
       "age                         True\n",
       "housing                    False\n",
       "credit_score                True\n",
       "deposits                   False\n",
       "withdrawal                 False\n",
       "purchases_partners         False\n",
       "purchases                  False\n",
       "cc_taken                   False\n",
       "cc_recommended             False\n",
       "cc_disliked                False\n",
       "cc_liked                   False\n",
       "cc_application_begin       False\n",
       "app_downloaded             False\n",
       "web_user                   False\n",
       "app_web_user               False\n",
       "ios_user                   False\n",
       "android_user               False\n",
       "registered_phones          False\n",
       "payment_type               False\n",
       "waiting_4_loan             False\n",
       "cancelled_loan             False\n",
       "received_loan              False\n",
       "rejected_loan              False\n",
       "zodiac_sign                False\n",
       "left_for_two_month_plus    False\n",
       "left_for_one_month         False\n",
       "rewards_earned              True\n",
       "reward_rate                False\n",
       "is_referred                False\n",
       "dtype: bool"
      ]
     },
     "execution_count": 4,
     "metadata": {},
     "output_type": "execute_result"
    }
   ],
   "source": [
    "df.isnull().any()"
   ]
  },
  {
   "cell_type": "code",
   "execution_count": 5,
   "id": "60a6c731",
   "metadata": {},
   "outputs": [
    {
     "data": {
      "text/plain": [
       "age                  4\n",
       "credit_score      7789\n",
       "rewards_earned    3163\n",
       "dtype: int64"
      ]
     },
     "execution_count": 5,
     "metadata": {},
     "output_type": "execute_result"
    }
   ],
   "source": [
    "# Checking for null values in specific columns\n",
    "df[['age', 'credit_score', 'rewards_earned']].isnull().sum()\n"
   ]
  },
  {
   "cell_type": "markdown",
   "id": "4a975d18",
   "metadata": {},
   "source": [
    "After checking for null values in the dataset, the following columns were found to contain missing values:\n",
    "| Column           | Missing Values |\n",
    "| ---------------- | -------------- |\n",
    "| `age`            | 4              |\n",
    "| `credit_score`   | 7,789          |\n",
    "| `rewards_earned` | 3,163          |"
   ]
  },
  {
   "cell_type": "markdown",
   "id": "7d2d270f",
   "metadata": {},
   "source": [
    "# Handling Missing Values"
   ]
  },
  {
   "cell_type": "markdown",
   "id": "791d481d",
   "metadata": {},
   "source": [
    "Missing values in the `age` column is filled using the median. This approach was chosen because the number of missing entries is very small, and the median is a robust statistic that helps avoid distortion from potential outliers in the age distribution."
   ]
  },
  {
   "cell_type": "code",
   "execution_count": 6,
   "id": "ef2dd610",
   "metadata": {},
   "outputs": [],
   "source": [
    "# Filling missing values in 'age' with the median\n",
    "df['age'] = df['age'].fillna(df['age'].median())"
   ]
  },
  {
   "cell_type": "markdown",
   "id": "5a4d975c",
   "metadata": {},
   "source": []
  },
  {
   "cell_type": "markdown",
   "id": "f42e0e55",
   "metadata": {},
   "source": [
    "Given the large number of missing values in `credit_score`, a two-step approach was used:\n",
    "\n",
    "1. A new binary feature `credit_score_missing` was created to capture the fact that the value was originally missing.\n",
    "\n",
    "2. Missing values in `credit_score` were then imputed using the median.\n",
    "\n",
    "This strategy allows us to keep useful information about missing entries, while using the median to avoid being affected by unusually high or low values."
   ]
  },
  {
   "cell_type": "code",
   "execution_count": 7,
   "id": "781ccd69",
   "metadata": {},
   "outputs": [],
   "source": [
    "# Filling missing values in 'credit_score'\n",
    "df['credit_score_missing'] = df['credit_score'].isnull().astype(int)\n",
    "df['credit_score'] = df['credit_score'].fillna(df['credit_score'].median())"
   ]
  },
  {
   "cell_type": "markdown",
   "id": "414d0a9f",
   "metadata": {},
   "source": []
  },
  {
   "cell_type": "markdown",
   "id": "58bc3869",
   "metadata": {},
   "source": [
    "Missing values in `rewards_earned` were filled with 0, based on the assumption that nulls likely indicate the customer did not earn any rewards. This interpretation aligns with business logic and avoids inflating values with artificial estimates."
   ]
  },
  {
   "cell_type": "markdown",
   "id": "48e7b8db",
   "metadata": {},
   "source": []
  },
  {
   "cell_type": "code",
   "execution_count": 8,
   "id": "7801a2ad",
   "metadata": {},
   "outputs": [],
   "source": [
    "# Filling missing values in 'rewards_earned' with 0\n",
    "df['rewards_earned'] = df['rewards_earned'].fillna(0)"
   ]
  },
  {
   "cell_type": "markdown",
   "id": "2ea938c1",
   "metadata": {},
   "source": [
    "# Handling and Standardising Missing Categorical Values"
   ]
  },
  {
   "cell_type": "code",
   "execution_count": 18,
   "id": "6a5b1dd9",
   "metadata": {},
   "outputs": [
    {
     "name": "stdout",
     "output_type": "stream",
     "text": [
      "['Unknown', 'R', 'O']\n",
      "Categories (3, object): ['O', 'R', 'Unknown']\n",
      "['Bi-Weekly', 'Weekly', 'Semi-Monthly', 'Unknown', 'Monthly']\n",
      "Categories (5, object): ['Bi-Weekly', 'Monthly', 'Semi-Monthly', 'Unknown', 'Weekly']\n",
      "['Leo', 'Capricorn', 'Aries', 'Taurus', 'Cancer', ..., 'Libra', 'Gemini', 'Scorpio', 'Pisces', 'Unknown']\n",
      "Length: 13\n",
      "Categories (13, object): ['Aquarius', 'Aries', 'Cancer', 'Capricorn', ..., 'Scorpio', 'Taurus', 'Unknown', 'Virgo']\n"
     ]
    }
   ],
   "source": [
    "# Checking unique values in categorical columns to verify cleaning and ensure all categories are correctly represented\n",
    "print(df['housing'].unique())\n",
    "print(df['payment_type'].unique())\n",
    "print(df['zodiac_sign'].unique())"
   ]
  },
  {
   "cell_type": "markdown",
   "id": "838929da",
   "metadata": {},
   "source": []
  },
  {
   "cell_type": "markdown",
   "id": "ae43c7ca",
   "metadata": {},
   "source": [
    "Converting placeholder entries ('na') to proper missing values (NaN) to ensure they are correctly handled during type conversion."
   ]
  },
  {
   "cell_type": "code",
   "execution_count": 10,
   "id": "49499598",
   "metadata": {},
   "outputs": [],
   "source": [
    "df['housing'] = df['housing'].replace('na', np.nan)\n",
    "df['payment_type'] = df['payment_type'].replace('na', np.nan)\n",
    "df['zodiac_sign'] = df['zodiac_sign'].replace('na', np.nan)\n"
   ]
  },
  {
   "cell_type": "code",
   "execution_count": null,
   "id": "2509cda1",
   "metadata": {},
   "outputs": [
    {
     "name": "stdout",
     "output_type": "stream",
     "text": [
      "housing         13606\n",
      "payment_type     3835\n",
      "zodiac_sign      2110\n",
      "dtype: int64\n"
     ]
    }
   ],
   "source": [
    "# Checking missing values in specific columns\n",
    "missing_counts = df[['housing', 'payment_type', 'zodiac_sign']].isnull().sum()\n",
    "print(missing_counts)"
   ]
  },
  {
   "cell_type": "markdown",
   "id": "84233123",
   "metadata": {},
   "source": []
  },
  {
   "cell_type": "markdown",
   "id": "ec19d2fd",
   "metadata": {},
   "source": [
    "Missing values in the `housing`, `payment_type`, and `zodiac_sign` columns were filled with the category `\"Unknown\"` to retain all records and preserve categorical structure without introducing bias."
   ]
  },
  {
   "cell_type": "code",
   "execution_count": 12,
   "id": "753799df",
   "metadata": {},
   "outputs": [],
   "source": [
    "# Fill missing values with 'Unknown'\n",
    "df['housing'] = df['housing'].fillna('Unknown')\n",
    "df['payment_type'] = df['payment_type'].fillna('Unknown')\n",
    "df['zodiac_sign'] = df['zodiac_sign'].fillna('Unknown')"
   ]
  },
  {
   "cell_type": "markdown",
   "id": "dcdf10b4",
   "metadata": {},
   "source": []
  },
  {
   "cell_type": "markdown",
   "id": "8540e586",
   "metadata": {},
   "source": [
    "Converting `housing`, `payment_type`, and `zodiac_sign` columns to categorical data types to improve memory efficiency and enable better handling of categorical features in future analysis."
   ]
  },
  {
   "cell_type": "code",
   "execution_count": 13,
   "id": "bc7dceef",
   "metadata": {},
   "outputs": [],
   "source": [
    "df['housing'] = df['housing'].astype('category')\n",
    "df['payment_type'] = df['payment_type'].astype('category')\n",
    "df['zodiac_sign'] = df['zodiac_sign'].astype('category')\n"
   ]
  },
  {
   "cell_type": "markdown",
   "id": "142869da",
   "metadata": {},
   "source": [
    "## Verifying data quality after cleaning"
   ]
  },
  {
   "cell_type": "code",
   "execution_count": 15,
   "id": "41f946e0",
   "metadata": {},
   "outputs": [
    {
     "data": {
      "text/plain": [
       "user                       0\n",
       "churn                      0\n",
       "age                        0\n",
       "housing                    0\n",
       "credit_score               0\n",
       "deposits                   0\n",
       "withdrawal                 0\n",
       "purchases_partners         0\n",
       "purchases                  0\n",
       "cc_taken                   0\n",
       "cc_recommended             0\n",
       "cc_disliked                0\n",
       "cc_liked                   0\n",
       "cc_application_begin       0\n",
       "app_downloaded             0\n",
       "web_user                   0\n",
       "app_web_user               0\n",
       "ios_user                   0\n",
       "android_user               0\n",
       "registered_phones          0\n",
       "payment_type               0\n",
       "waiting_4_loan             0\n",
       "cancelled_loan             0\n",
       "received_loan              0\n",
       "rejected_loan              0\n",
       "zodiac_sign                0\n",
       "left_for_two_month_plus    0\n",
       "left_for_one_month         0\n",
       "rewards_earned             0\n",
       "reward_rate                0\n",
       "is_referred                0\n",
       "credit_score_missing       0\n",
       "dtype: int64"
      ]
     },
     "execution_count": 15,
     "metadata": {},
     "output_type": "execute_result"
    }
   ],
   "source": [
    "# Check if any missing values remain anywhere\n",
    "df.isnull().sum()"
   ]
  },
  {
   "cell_type": "code",
   "execution_count": 16,
   "id": "de370b3f",
   "metadata": {},
   "outputs": [
    {
     "data": {
      "text/plain": [
       "user                          int64\n",
       "churn                         int64\n",
       "age                         float64\n",
       "housing                    category\n",
       "credit_score                float64\n",
       "deposits                      int64\n",
       "withdrawal                    int64\n",
       "purchases_partners            int64\n",
       "purchases                     int64\n",
       "cc_taken                      int64\n",
       "cc_recommended                int64\n",
       "cc_disliked                   int64\n",
       "cc_liked                      int64\n",
       "cc_application_begin          int64\n",
       "app_downloaded                int64\n",
       "web_user                      int64\n",
       "app_web_user                  int64\n",
       "ios_user                      int64\n",
       "android_user                  int64\n",
       "registered_phones             int64\n",
       "payment_type               category\n",
       "waiting_4_loan                int64\n",
       "cancelled_loan                int64\n",
       "received_loan                 int64\n",
       "rejected_loan                 int64\n",
       "zodiac_sign                category\n",
       "left_for_two_month_plus       int64\n",
       "left_for_one_month            int64\n",
       "rewards_earned              float64\n",
       "reward_rate                 float64\n",
       "is_referred                   int64\n",
       "credit_score_missing          int64\n",
       "dtype: object"
      ]
     },
     "execution_count": 16,
     "metadata": {},
     "output_type": "execute_result"
    }
   ],
   "source": [
    "# Confirm data types are correct\n",
    "df.dtypes"
   ]
  },
  {
   "cell_type": "markdown",
   "id": "a54002c1",
   "metadata": {},
   "source": [
    "## Data Cleaning Summary\n",
    "\n",
    "- **Duplicate Removal:** All duplicate rows were identified and removed to ensure data integrity.\n",
    "\n",
    "- **Handling Missing Values:**  \n",
    "  - The `age` column had minimal missing data and was filled with the median value to avoid the influence of outliers.  \n",
    "  - The `rewards_earned` column was filled with `0` to indicate no rewards under the assumption that missing entries likely reflect a lack of activity or engagement.  \n",
    "  - The `credit_score` column had substantial missing values; these were imputed with the median, and a new indicator column `credit_score_missing` was created to flag missing entries, preserving potentially useful information.  \n",
    "  - Categorical columns (`housing`, `payment_type`, `zodiac_sign`) contained missing values represented as 'na'. These were replaced with `NaN` and then filled with the category `\"Unknown\"` to maintain category consistency without losing data.\n",
    "  \n",
    "\n",
    "- **Data Type Conversion:**  \n",
    "  - Relevant categorical columns were converted to the `category` data type to optimise memory usage and enable efficient processing.\n",
    "\n",
    "\n",
    "- **Final Checks:**  \n",
    "  - Confirmed that all columns have appropriate data types and no remaining null values (except where intentionally preserved for missingness indicators).\n",
    "\n",
    "\n",
    "- **Next Steps:**  \n",
    "  - The cleaned dataset has been saved for further analysis and modelling. \n",
    "\n"
   ]
  },
  {
   "cell_type": "code",
   "execution_count": 17,
   "id": "042431cf",
   "metadata": {},
   "outputs": [],
   "source": [
    "# Save as CSV (common format)\n",
    "df.to_csv('cleaned_data.csv', index=False)\n"
   ]
  }
 ],
 "metadata": {
  "kernelspec": {
   "display_name": ".venv",
   "language": "python",
   "name": ".venv"
  },
  "language_info": {
   "codemirror_mode": {
    "name": "ipython",
    "version": 3
   },
   "file_extension": ".py",
   "mimetype": "text/x-python",
   "name": "python",
   "nbconvert_exporter": "python",
   "pygments_lexer": "ipython3",
   "version": "3.12.8"
  }
 },
 "nbformat": 4,
 "nbformat_minor": 5
}
