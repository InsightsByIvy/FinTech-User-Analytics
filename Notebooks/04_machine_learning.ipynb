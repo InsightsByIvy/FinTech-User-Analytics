{
 "cells": [
  {
   "cell_type": "markdown",
   "id": "ac115d67",
   "metadata": {},
   "source": [
    "Machine Learning\n",
    "Goal: Build a simple model to predict churn"
   ]
  },
  {
   "cell_type": "markdown",
   "id": "e93e3e98",
   "metadata": {},
   "source": [
    "## Step 1: Import Necessary Libraries"
   ]
  },
  {
   "cell_type": "code",
   "execution_count": 9,
   "id": "1f491d6a",
   "metadata": {},
   "outputs": [],
   "source": [
    "import pandas as pd\n",
    "import sklearn as sk\n",
    "from sklearn.model_selection import train_test_split\n",
    "from sklearn.preprocessing import StandardScaler, OneHotEncoder\n",
    "from sklearn.compose import ColumnTransformer\n",
    "from sklearn.pipeline import Pipeline\n",
    "from sklearn.ensemble import RandomForestClassifier\n",
    "from sklearn.metrics import classification_report\n",
    "from sklearn.linear_model import LogisticRegression"
   ]
  },
  {
   "cell_type": "markdown",
   "id": "76d48485",
   "metadata": {},
   "source": [
    "## Step 2: Load Cleaned Dataset"
   ]
  },
  {
   "cell_type": "code",
   "execution_count": 3,
   "id": "15f47203",
   "metadata": {},
   "outputs": [
    {
     "name": "stdout",
     "output_type": "stream",
     "text": [
      "(26542, 32)\n"
     ]
    },
    {
     "data": {
      "text/html": [
       "<div>\n",
       "<style scoped>\n",
       "    .dataframe tbody tr th:only-of-type {\n",
       "        vertical-align: middle;\n",
       "    }\n",
       "\n",
       "    .dataframe tbody tr th {\n",
       "        vertical-align: top;\n",
       "    }\n",
       "\n",
       "    .dataframe thead th {\n",
       "        text-align: right;\n",
       "    }\n",
       "</style>\n",
       "<table border=\"1\" class=\"dataframe\">\n",
       "  <thead>\n",
       "    <tr style=\"text-align: right;\">\n",
       "      <th></th>\n",
       "      <th>user</th>\n",
       "      <th>churn</th>\n",
       "      <th>age</th>\n",
       "      <th>housing</th>\n",
       "      <th>credit_score</th>\n",
       "      <th>deposits</th>\n",
       "      <th>withdrawal</th>\n",
       "      <th>purchases_partners</th>\n",
       "      <th>purchases</th>\n",
       "      <th>cc_taken</th>\n",
       "      <th>...</th>\n",
       "      <th>cancelled_loan</th>\n",
       "      <th>received_loan</th>\n",
       "      <th>rejected_loan</th>\n",
       "      <th>zodiac_sign</th>\n",
       "      <th>left_for_two_month_plus</th>\n",
       "      <th>left_for_one_month</th>\n",
       "      <th>rewards_earned</th>\n",
       "      <th>reward_rate</th>\n",
       "      <th>is_referred</th>\n",
       "      <th>credit_score_missing</th>\n",
       "    </tr>\n",
       "  </thead>\n",
       "  <tbody>\n",
       "    <tr>\n",
       "      <th>0</th>\n",
       "      <td>55409</td>\n",
       "      <td>0</td>\n",
       "      <td>37.0</td>\n",
       "      <td>Unknown</td>\n",
       "      <td>542.0</td>\n",
       "      <td>0</td>\n",
       "      <td>0</td>\n",
       "      <td>0</td>\n",
       "      <td>0</td>\n",
       "      <td>0</td>\n",
       "      <td>...</td>\n",
       "      <td>0</td>\n",
       "      <td>0</td>\n",
       "      <td>0</td>\n",
       "      <td>Leo</td>\n",
       "      <td>1</td>\n",
       "      <td>0</td>\n",
       "      <td>0.0</td>\n",
       "      <td>0.00</td>\n",
       "      <td>0</td>\n",
       "      <td>1</td>\n",
       "    </tr>\n",
       "    <tr>\n",
       "      <th>1</th>\n",
       "      <td>23547</td>\n",
       "      <td>0</td>\n",
       "      <td>28.0</td>\n",
       "      <td>R</td>\n",
       "      <td>486.0</td>\n",
       "      <td>0</td>\n",
       "      <td>0</td>\n",
       "      <td>1</td>\n",
       "      <td>0</td>\n",
       "      <td>0</td>\n",
       "      <td>...</td>\n",
       "      <td>0</td>\n",
       "      <td>0</td>\n",
       "      <td>0</td>\n",
       "      <td>Leo</td>\n",
       "      <td>0</td>\n",
       "      <td>0</td>\n",
       "      <td>44.0</td>\n",
       "      <td>1.47</td>\n",
       "      <td>1</td>\n",
       "      <td>0</td>\n",
       "    </tr>\n",
       "    <tr>\n",
       "      <th>2</th>\n",
       "      <td>58313</td>\n",
       "      <td>0</td>\n",
       "      <td>35.0</td>\n",
       "      <td>R</td>\n",
       "      <td>561.0</td>\n",
       "      <td>47</td>\n",
       "      <td>2</td>\n",
       "      <td>86</td>\n",
       "      <td>47</td>\n",
       "      <td>0</td>\n",
       "      <td>...</td>\n",
       "      <td>0</td>\n",
       "      <td>0</td>\n",
       "      <td>0</td>\n",
       "      <td>Capricorn</td>\n",
       "      <td>1</td>\n",
       "      <td>0</td>\n",
       "      <td>65.0</td>\n",
       "      <td>2.17</td>\n",
       "      <td>0</td>\n",
       "      <td>0</td>\n",
       "    </tr>\n",
       "    <tr>\n",
       "      <th>3</th>\n",
       "      <td>8095</td>\n",
       "      <td>0</td>\n",
       "      <td>26.0</td>\n",
       "      <td>R</td>\n",
       "      <td>567.0</td>\n",
       "      <td>26</td>\n",
       "      <td>3</td>\n",
       "      <td>38</td>\n",
       "      <td>25</td>\n",
       "      <td>0</td>\n",
       "      <td>...</td>\n",
       "      <td>0</td>\n",
       "      <td>0</td>\n",
       "      <td>0</td>\n",
       "      <td>Capricorn</td>\n",
       "      <td>0</td>\n",
       "      <td>0</td>\n",
       "      <td>33.0</td>\n",
       "      <td>1.10</td>\n",
       "      <td>1</td>\n",
       "      <td>0</td>\n",
       "    </tr>\n",
       "    <tr>\n",
       "      <th>4</th>\n",
       "      <td>61353</td>\n",
       "      <td>1</td>\n",
       "      <td>27.0</td>\n",
       "      <td>Unknown</td>\n",
       "      <td>542.0</td>\n",
       "      <td>0</td>\n",
       "      <td>0</td>\n",
       "      <td>2</td>\n",
       "      <td>0</td>\n",
       "      <td>0</td>\n",
       "      <td>...</td>\n",
       "      <td>0</td>\n",
       "      <td>0</td>\n",
       "      <td>0</td>\n",
       "      <td>Aries</td>\n",
       "      <td>1</td>\n",
       "      <td>0</td>\n",
       "      <td>1.0</td>\n",
       "      <td>0.03</td>\n",
       "      <td>0</td>\n",
       "      <td>1</td>\n",
       "    </tr>\n",
       "  </tbody>\n",
       "</table>\n",
       "<p>5 rows × 32 columns</p>\n",
       "</div>"
      ],
      "text/plain": [
       "    user  churn   age  housing  credit_score  deposits  withdrawal  \\\n",
       "0  55409      0  37.0  Unknown         542.0         0           0   \n",
       "1  23547      0  28.0        R         486.0         0           0   \n",
       "2  58313      0  35.0        R         561.0        47           2   \n",
       "3   8095      0  26.0        R         567.0        26           3   \n",
       "4  61353      1  27.0  Unknown         542.0         0           0   \n",
       "\n",
       "   purchases_partners  purchases  cc_taken  ...  cancelled_loan  \\\n",
       "0                   0          0         0  ...               0   \n",
       "1                   1          0         0  ...               0   \n",
       "2                  86         47         0  ...               0   \n",
       "3                  38         25         0  ...               0   \n",
       "4                   2          0         0  ...               0   \n",
       "\n",
       "   received_loan  rejected_loan  zodiac_sign  left_for_two_month_plus  \\\n",
       "0              0              0          Leo                        1   \n",
       "1              0              0          Leo                        0   \n",
       "2              0              0    Capricorn                        1   \n",
       "3              0              0    Capricorn                        0   \n",
       "4              0              0        Aries                        1   \n",
       "\n",
       "   left_for_one_month  rewards_earned  reward_rate  is_referred  \\\n",
       "0                   0             0.0         0.00            0   \n",
       "1                   0            44.0         1.47            1   \n",
       "2                   0            65.0         2.17            0   \n",
       "3                   0            33.0         1.10            1   \n",
       "4                   0             1.0         0.03            0   \n",
       "\n",
       "   credit_score_missing  \n",
       "0                     1  \n",
       "1                     0  \n",
       "2                     0  \n",
       "3                     0  \n",
       "4                     1  \n",
       "\n",
       "[5 rows x 32 columns]"
      ]
     },
     "execution_count": 3,
     "metadata": {},
     "output_type": "execute_result"
    }
   ],
   "source": [
    "# Load the cleaned data\n",
    "df = pd.read_csv('../Data/Cleaned/cleaned_data.csv')\n",
    "\n",
    "# Quick check\n",
    "print(df.shape)\n",
    "df.head()"
   ]
  },
  {
   "cell_type": "markdown",
   "id": "faed5c64",
   "metadata": {},
   "source": [
    "## Step 3: Check for Target Variable"
   ]
  },
  {
   "cell_type": "code",
   "execution_count": 4,
   "id": "d929d119",
   "metadata": {},
   "outputs": [
    {
     "data": {
      "text/plain": [
       "churn\n",
       "0    0.579007\n",
       "1    0.420993\n",
       "Name: proportion, dtype: float64"
      ]
     },
     "execution_count": 4,
     "metadata": {},
     "output_type": "execute_result"
    }
   ],
   "source": [
    "df['churn'].value_counts(normalize=True)\n"
   ]
  },
  {
   "cell_type": "markdown",
   "id": "bf570c33",
   "metadata": {},
   "source": [
    "## Step 4: Define Features and Target"
   ]
  },
  {
   "cell_type": "code",
   "execution_count": 5,
   "id": "3bc7371b",
   "metadata": {},
   "outputs": [],
   "source": [
    "# Define feature columns\n",
    "features = [\n",
    "    'age', 'credit_score', 'rewards_earned', 'reward_rate', 'is_referred',\n",
    "    'app_downloaded', 'web_user', 'app_web_user',\n",
    "    'ios_user', 'android_user', 'housing', 'payment_type',\n",
    "    'zodiac_sign'\n",
    "]\n",
    "\n",
    "# Define target\n",
    "target = 'churn'\n",
    "\n",
    "X = df[features]\n",
    "y = df[target]"
   ]
  },
  {
   "cell_type": "markdown",
   "id": "377b1703",
   "metadata": {},
   "source": [
    "## Step 5: Encode Categorical Features"
   ]
  },
  {
   "cell_type": "code",
   "execution_count": 6,
   "id": "b0c06aac",
   "metadata": {},
   "outputs": [],
   "source": [
    "# One-hot encode categoricals and keep numericals as-is\n",
    "X = pd.get_dummies(X, drop_first=True)"
   ]
  },
  {
   "cell_type": "markdown",
   "id": "b9684a7b",
   "metadata": {},
   "source": [
    "## Step 6: Train-Test Split"
   ]
  },
  {
   "cell_type": "code",
   "execution_count": 7,
   "id": "88703036",
   "metadata": {},
   "outputs": [],
   "source": [
    "# Train-test split\n",
    "X_train, X_test, y_train, y_test = train_test_split(X, y, stratify=y, test_size=0.2, random_state=42)"
   ]
  },
  {
   "cell_type": "markdown",
   "id": "3174d40a",
   "metadata": {},
   "source": [
    "## Step 7: Train the Model"
   ]
  },
  {
   "cell_type": "code",
   "execution_count": 10,
   "id": "b5c1d67e",
   "metadata": {},
   "outputs": [
    {
     "name": "stdout",
     "output_type": "stream",
     "text": [
      "              precision    recall  f1-score   support\n",
      "\n",
      "           0       0.63      0.78      0.70      3074\n",
      "           1       0.54      0.36      0.43      2235\n",
      "\n",
      "    accuracy                           0.60      5309\n",
      "   macro avg       0.59      0.57      0.56      5309\n",
      "weighted avg       0.59      0.60      0.59      5309\n",
      "\n"
     ]
    },
    {
     "name": "stderr",
     "output_type": "stream",
     "text": [
      "/Users/emcsi/Documents/GitHub/FinTech-User-Analytics/.venv/lib/python3.12/site-packages/sklearn/linear_model/_logistic.py:469: ConvergenceWarning: lbfgs failed to converge (status=1):\n",
      "STOP: TOTAL NO. of ITERATIONS REACHED LIMIT.\n",
      "\n",
      "Increase the number of iterations (max_iter) or scale the data as shown in:\n",
      "    https://scikit-learn.org/stable/modules/preprocessing.html\n",
      "Please also refer to the documentation for alternative solver options:\n",
      "    https://scikit-learn.org/stable/modules/linear_model.html#logistic-regression\n",
      "  n_iter_i = _check_optimize_result(\n"
     ]
    }
   ],
   "source": [
    "model = LogisticRegression(max_iter=1000)\n",
    "model.fit(X_train, y_train)\n",
    "\n",
    "y_pred = model.predict(X_test)\n",
    "print(classification_report(y_test, y_pred))"
   ]
  },
  {
   "cell_type": "markdown",
   "id": "ce7d7b84",
   "metadata": {},
   "source": [
    "Result:\n",
    "* The model is better at identifying non-churners (class 0) than churners (class 1).\n",
    "* Recall for churners is only 36% → the model misses many churners."
   ]
  },
  {
   "cell_type": "markdown",
   "id": "c78535d4",
   "metadata": {},
   "source": [
    "## Next Steps to Improve\n",
    "\n",
    "1. Feature Scaling:\n",
    "Try scaling the features — especially that we have values like `reward_rate`, `credit_score`, and `age`."
   ]
  },
  {
   "cell_type": "code",
   "execution_count": 11,
   "id": "9bcdb3c1",
   "metadata": {},
   "outputs": [],
   "source": [
    "scaler = StandardScaler()\n",
    "X_scaled = scaler.fit_transform(X)  # Note: `X` was encoded already\n",
    "\n",
    "# Split again after scaling\n",
    "X_train, X_test, y_train, y_test = train_test_split(\n",
    "    X_scaled, y, test_size=0.2, random_state=42, stratify=y\n",
    ")"
   ]
  },
  {
   "cell_type": "code",
   "execution_count": 12,
   "id": "ba442bf1",
   "metadata": {},
   "outputs": [
    {
     "name": "stdout",
     "output_type": "stream",
     "text": [
      "              precision    recall  f1-score   support\n",
      "\n",
      "           0       0.63      0.78      0.69      3074\n",
      "           1       0.54      0.36      0.43      2235\n",
      "\n",
      "    accuracy                           0.60      5309\n",
      "   macro avg       0.58      0.57      0.56      5309\n",
      "weighted avg       0.59      0.60      0.58      5309\n",
      "\n"
     ]
    }
   ],
   "source": [
    "# Train the model again with scaled features\n",
    "model = LogisticRegression(max_iter=2000, random_state=42)\n",
    "model.fit(X_train, y_train)\n",
    "y_pred = model.predict(X_test)\n",
    "\n",
    "from sklearn.metrics import classification_report\n",
    "print(classification_report(y_test, y_pred))"
   ]
  },
  {
   "cell_type": "markdown",
   "id": "3a4251de",
   "metadata": {},
   "source": [
    "Result:\n",
    "* The scores stayed about the same, but the convergence warning disappeared.\n",
    "* The dataset is likely challenging to classify churners accurately with just logistic regression.\n",
    "* Precision and recall on churners are still low-ish (~0.54 and 0.36).\n",
    "\n",
    "Next Steps:\n",
    "* Use another model to compare the differences."
   ]
  },
  {
   "cell_type": "code",
   "execution_count": null,
   "id": "dcb6b648",
   "metadata": {},
   "outputs": [],
   "source": [
    "import pandas as pd\n",
    "\n",
    "# Get feature names from encoder\n",
    "cat_features = model.named_steps['preprocess'].transformers_[1][1].get_feature_names_out(categorical)\n",
    "final_features = numerical + list(cat_features) + ['credit_score_missing', 'is_referred', 'app_downloaded', 'web_user', 'app_web_user', 'ios_user', 'android_user']\n",
    "\n",
    "# Feature importances\n",
    "importances = model.named_steps['clf'].feature_importances_\n",
    "feat_importance = pd.Series(importances, index=final_features).sort_values(ascending=False)\n",
    "print(feat_importance.head(10))\n"
   ]
  }
 ],
 "metadata": {
  "kernelspec": {
   "display_name": ".venv",
   "language": "python",
   "name": ".venv"
  },
  "language_info": {
   "codemirror_mode": {
    "name": "ipython",
    "version": 3
   },
   "file_extension": ".py",
   "mimetype": "text/x-python",
   "name": "python",
   "nbconvert_exporter": "python",
   "pygments_lexer": "ipython3",
   "version": "3.12.8"
  }
 },
 "nbformat": 4,
 "nbformat_minor": 5
}
