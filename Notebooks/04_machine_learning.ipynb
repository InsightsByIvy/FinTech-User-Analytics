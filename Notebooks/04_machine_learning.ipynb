{
 "cells": [
  {
   "cell_type": "markdown",
   "id": "965e82e8",
   "metadata": {},
   "source": [
    "# Machine Learning Goal: Predict User Churn\n",
    "\n",
    "The goal of this section is to build and evaluate a simple machine learning model to predict customer churn using user behaviour and demographic features from the dataset."
   ]
  },
  {
   "cell_type": "markdown",
   "id": "e93e3e98",
   "metadata": {},
   "source": [
    "## Step 1: Import Required Libraries"
   ]
  },
  {
   "cell_type": "code",
   "execution_count": 9,
   "id": "1f491d6a",
   "metadata": {},
   "outputs": [],
   "source": [
    "import pandas as pd\n",
    "import sklearn as sk\n",
    "from sklearn.model_selection import train_test_split\n",
    "from sklearn.preprocessing import StandardScaler, OneHotEncoder\n",
    "from sklearn.compose import ColumnTransformer\n",
    "from sklearn.pipeline import Pipeline\n",
    "from sklearn.ensemble import RandomForestClassifier\n",
    "from sklearn.metrics import classification_report\n",
    "from sklearn.linear_model import LogisticRegression"
   ]
  },
  {
   "cell_type": "markdown",
   "id": "76d48485",
   "metadata": {},
   "source": [
    "## Step 2: Load Cleaned Dataset"
   ]
  },
  {
   "cell_type": "markdown",
   "id": "9ff697cf",
   "metadata": {},
   "source": [
    "We load the cleaned dataset and take a quick look at its shape and structure."
   ]
  },
  {
   "cell_type": "code",
   "execution_count": 3,
   "id": "15f47203",
   "metadata": {},
   "outputs": [
    {
     "name": "stdout",
     "output_type": "stream",
     "text": [
      "(26542, 32)\n"
     ]
    },
    {
     "data": {
      "text/html": [
       "<div>\n",
       "<style scoped>\n",
       "    .dataframe tbody tr th:only-of-type {\n",
       "        vertical-align: middle;\n",
       "    }\n",
       "\n",
       "    .dataframe tbody tr th {\n",
       "        vertical-align: top;\n",
       "    }\n",
       "\n",
       "    .dataframe thead th {\n",
       "        text-align: right;\n",
       "    }\n",
       "</style>\n",
       "<table border=\"1\" class=\"dataframe\">\n",
       "  <thead>\n",
       "    <tr style=\"text-align: right;\">\n",
       "      <th></th>\n",
       "      <th>user</th>\n",
       "      <th>churn</th>\n",
       "      <th>age</th>\n",
       "      <th>housing</th>\n",
       "      <th>credit_score</th>\n",
       "      <th>deposits</th>\n",
       "      <th>withdrawal</th>\n",
       "      <th>purchases_partners</th>\n",
       "      <th>purchases</th>\n",
       "      <th>cc_taken</th>\n",
       "      <th>...</th>\n",
       "      <th>cancelled_loan</th>\n",
       "      <th>received_loan</th>\n",
       "      <th>rejected_loan</th>\n",
       "      <th>zodiac_sign</th>\n",
       "      <th>left_for_two_month_plus</th>\n",
       "      <th>left_for_one_month</th>\n",
       "      <th>rewards_earned</th>\n",
       "      <th>reward_rate</th>\n",
       "      <th>is_referred</th>\n",
       "      <th>credit_score_missing</th>\n",
       "    </tr>\n",
       "  </thead>\n",
       "  <tbody>\n",
       "    <tr>\n",
       "      <th>0</th>\n",
       "      <td>55409</td>\n",
       "      <td>0</td>\n",
       "      <td>37.0</td>\n",
       "      <td>Unknown</td>\n",
       "      <td>542.0</td>\n",
       "      <td>0</td>\n",
       "      <td>0</td>\n",
       "      <td>0</td>\n",
       "      <td>0</td>\n",
       "      <td>0</td>\n",
       "      <td>...</td>\n",
       "      <td>0</td>\n",
       "      <td>0</td>\n",
       "      <td>0</td>\n",
       "      <td>Leo</td>\n",
       "      <td>1</td>\n",
       "      <td>0</td>\n",
       "      <td>0.0</td>\n",
       "      <td>0.00</td>\n",
       "      <td>0</td>\n",
       "      <td>1</td>\n",
       "    </tr>\n",
       "    <tr>\n",
       "      <th>1</th>\n",
       "      <td>23547</td>\n",
       "      <td>0</td>\n",
       "      <td>28.0</td>\n",
       "      <td>R</td>\n",
       "      <td>486.0</td>\n",
       "      <td>0</td>\n",
       "      <td>0</td>\n",
       "      <td>1</td>\n",
       "      <td>0</td>\n",
       "      <td>0</td>\n",
       "      <td>...</td>\n",
       "      <td>0</td>\n",
       "      <td>0</td>\n",
       "      <td>0</td>\n",
       "      <td>Leo</td>\n",
       "      <td>0</td>\n",
       "      <td>0</td>\n",
       "      <td>44.0</td>\n",
       "      <td>1.47</td>\n",
       "      <td>1</td>\n",
       "      <td>0</td>\n",
       "    </tr>\n",
       "    <tr>\n",
       "      <th>2</th>\n",
       "      <td>58313</td>\n",
       "      <td>0</td>\n",
       "      <td>35.0</td>\n",
       "      <td>R</td>\n",
       "      <td>561.0</td>\n",
       "      <td>47</td>\n",
       "      <td>2</td>\n",
       "      <td>86</td>\n",
       "      <td>47</td>\n",
       "      <td>0</td>\n",
       "      <td>...</td>\n",
       "      <td>0</td>\n",
       "      <td>0</td>\n",
       "      <td>0</td>\n",
       "      <td>Capricorn</td>\n",
       "      <td>1</td>\n",
       "      <td>0</td>\n",
       "      <td>65.0</td>\n",
       "      <td>2.17</td>\n",
       "      <td>0</td>\n",
       "      <td>0</td>\n",
       "    </tr>\n",
       "    <tr>\n",
       "      <th>3</th>\n",
       "      <td>8095</td>\n",
       "      <td>0</td>\n",
       "      <td>26.0</td>\n",
       "      <td>R</td>\n",
       "      <td>567.0</td>\n",
       "      <td>26</td>\n",
       "      <td>3</td>\n",
       "      <td>38</td>\n",
       "      <td>25</td>\n",
       "      <td>0</td>\n",
       "      <td>...</td>\n",
       "      <td>0</td>\n",
       "      <td>0</td>\n",
       "      <td>0</td>\n",
       "      <td>Capricorn</td>\n",
       "      <td>0</td>\n",
       "      <td>0</td>\n",
       "      <td>33.0</td>\n",
       "      <td>1.10</td>\n",
       "      <td>1</td>\n",
       "      <td>0</td>\n",
       "    </tr>\n",
       "    <tr>\n",
       "      <th>4</th>\n",
       "      <td>61353</td>\n",
       "      <td>1</td>\n",
       "      <td>27.0</td>\n",
       "      <td>Unknown</td>\n",
       "      <td>542.0</td>\n",
       "      <td>0</td>\n",
       "      <td>0</td>\n",
       "      <td>2</td>\n",
       "      <td>0</td>\n",
       "      <td>0</td>\n",
       "      <td>...</td>\n",
       "      <td>0</td>\n",
       "      <td>0</td>\n",
       "      <td>0</td>\n",
       "      <td>Aries</td>\n",
       "      <td>1</td>\n",
       "      <td>0</td>\n",
       "      <td>1.0</td>\n",
       "      <td>0.03</td>\n",
       "      <td>0</td>\n",
       "      <td>1</td>\n",
       "    </tr>\n",
       "  </tbody>\n",
       "</table>\n",
       "<p>5 rows × 32 columns</p>\n",
       "</div>"
      ],
      "text/plain": [
       "    user  churn   age  housing  credit_score  deposits  withdrawal  \\\n",
       "0  55409      0  37.0  Unknown         542.0         0           0   \n",
       "1  23547      0  28.0        R         486.0         0           0   \n",
       "2  58313      0  35.0        R         561.0        47           2   \n",
       "3   8095      0  26.0        R         567.0        26           3   \n",
       "4  61353      1  27.0  Unknown         542.0         0           0   \n",
       "\n",
       "   purchases_partners  purchases  cc_taken  ...  cancelled_loan  \\\n",
       "0                   0          0         0  ...               0   \n",
       "1                   1          0         0  ...               0   \n",
       "2                  86         47         0  ...               0   \n",
       "3                  38         25         0  ...               0   \n",
       "4                   2          0         0  ...               0   \n",
       "\n",
       "   received_loan  rejected_loan  zodiac_sign  left_for_two_month_plus  \\\n",
       "0              0              0          Leo                        1   \n",
       "1              0              0          Leo                        0   \n",
       "2              0              0    Capricorn                        1   \n",
       "3              0              0    Capricorn                        0   \n",
       "4              0              0        Aries                        1   \n",
       "\n",
       "   left_for_one_month  rewards_earned  reward_rate  is_referred  \\\n",
       "0                   0             0.0         0.00            0   \n",
       "1                   0            44.0         1.47            1   \n",
       "2                   0            65.0         2.17            0   \n",
       "3                   0            33.0         1.10            1   \n",
       "4                   0             1.0         0.03            0   \n",
       "\n",
       "   credit_score_missing  \n",
       "0                     1  \n",
       "1                     0  \n",
       "2                     0  \n",
       "3                     0  \n",
       "4                     1  \n",
       "\n",
       "[5 rows x 32 columns]"
      ]
     },
     "execution_count": 3,
     "metadata": {},
     "output_type": "execute_result"
    }
   ],
   "source": [
    "# Load the cleaned data\n",
    "df = pd.read_csv('../Data/Cleaned/cleaned_data.csv')\n",
    "\n",
    "# Quick check\n",
    "print(df.shape)\n",
    "df.head()"
   ]
  },
  {
   "cell_type": "markdown",
   "id": "faed5c64",
   "metadata": {},
   "source": [
    "## Step 3: Check for Target Variable"
   ]
  },
  {
   "cell_type": "markdown",
   "id": "82b5ebe2",
   "metadata": {},
   "source": [
    "Before modelling, it's important to check the distribution of the target variable (churn). This helps us understand whether the dataset is imbalanced."
   ]
  },
  {
   "cell_type": "code",
   "execution_count": 4,
   "id": "d929d119",
   "metadata": {},
   "outputs": [
    {
     "data": {
      "text/plain": [
       "churn\n",
       "0    0.579007\n",
       "1    0.420993\n",
       "Name: proportion, dtype: float64"
      ]
     },
     "execution_count": 4,
     "metadata": {},
     "output_type": "execute_result"
    }
   ],
   "source": [
    "df['churn'].value_counts(normalize=True)\n"
   ]
  },
  {
   "cell_type": "markdown",
   "id": "bf570c33",
   "metadata": {},
   "source": [
    "## Step 4: Define Features and Target"
   ]
  },
  {
   "cell_type": "markdown",
   "id": "64d11087",
   "metadata": {},
   "source": [
    "We select relevant features (both numerical and categorical) that might help predict churn. The target variable is churn."
   ]
  },
  {
   "cell_type": "code",
   "execution_count": 5,
   "id": "3bc7371b",
   "metadata": {},
   "outputs": [],
   "source": [
    "# Define feature columns\n",
    "features = [\n",
    "    'age', 'credit_score', 'rewards_earned', 'reward_rate', 'is_referred',\n",
    "    'app_downloaded', 'web_user', 'app_web_user',\n",
    "    'ios_user', 'android_user', 'housing', 'payment_type',\n",
    "    'zodiac_sign'\n",
    "]\n",
    "\n",
    "# Define target\n",
    "target = 'churn'\n",
    "\n",
    "X = df[features]\n",
    "y = df[target]"
   ]
  },
  {
   "cell_type": "markdown",
   "id": "377b1703",
   "metadata": {},
   "source": [
    "## Step 5: Encode Categorical Features"
   ]
  },
  {
   "cell_type": "markdown",
   "id": "53cbadbb",
   "metadata": {},
   "source": [
    "We use one-hot encoding to transform categorical variables into numerical format, suitable for machine learning algorithms."
   ]
  },
  {
   "cell_type": "code",
   "execution_count": 6,
   "id": "b0c06aac",
   "metadata": {},
   "outputs": [],
   "source": [
    "# One-hot encode categoricals and keep numericals as-is\n",
    "X = pd.get_dummies(X, drop_first=True)"
   ]
  },
  {
   "cell_type": "markdown",
   "id": "b9684a7b",
   "metadata": {},
   "source": [
    "## Step 6: Train-Test Split"
   ]
  },
  {
   "cell_type": "markdown",
   "id": "3c6cb9a7",
   "metadata": {},
   "source": [
    "We split the data into training and test sets using an 80/20 split."
   ]
  },
  {
   "cell_type": "code",
   "execution_count": 7,
   "id": "88703036",
   "metadata": {},
   "outputs": [],
   "source": [
    "# Train-test split\n",
    "X_train, X_test, y_train, y_test = train_test_split(X, y, stratify=y, test_size=0.2, random_state=42)"
   ]
  },
  {
   "cell_type": "markdown",
   "id": "3174d40a",
   "metadata": {},
   "source": [
    "## Step 7: Train a Logistic Regression Model"
   ]
  },
  {
   "cell_type": "markdown",
   "id": "2f66e841",
   "metadata": {},
   "source": [
    "We begin with a simple and interpretable model, logistic regression. After fitting the model, we evaluate performance using precision, recall, and F1-score."
   ]
  },
  {
   "cell_type": "code",
   "execution_count": 10,
   "id": "b5c1d67e",
   "metadata": {},
   "outputs": [
    {
     "name": "stdout",
     "output_type": "stream",
     "text": [
      "              precision    recall  f1-score   support\n",
      "\n",
      "           0       0.63      0.78      0.70      3074\n",
      "           1       0.54      0.36      0.43      2235\n",
      "\n",
      "    accuracy                           0.60      5309\n",
      "   macro avg       0.59      0.57      0.56      5309\n",
      "weighted avg       0.59      0.60      0.59      5309\n",
      "\n"
     ]
    },
    {
     "name": "stderr",
     "output_type": "stream",
     "text": [
      "/Users/emcsi/Documents/GitHub/FinTech-User-Analytics/.venv/lib/python3.12/site-packages/sklearn/linear_model/_logistic.py:469: ConvergenceWarning: lbfgs failed to converge (status=1):\n",
      "STOP: TOTAL NO. of ITERATIONS REACHED LIMIT.\n",
      "\n",
      "Increase the number of iterations (max_iter) or scale the data as shown in:\n",
      "    https://scikit-learn.org/stable/modules/preprocessing.html\n",
      "Please also refer to the documentation for alternative solver options:\n",
      "    https://scikit-learn.org/stable/modules/linear_model.html#logistic-regression\n",
      "  n_iter_i = _check_optimize_result(\n"
     ]
    }
   ],
   "source": [
    "model = LogisticRegression(max_iter=1000)\n",
    "model.fit(X_train, y_train)\n",
    "\n",
    "y_pred = model.predict(X_test)\n",
    "print(classification_report(y_test, y_pred))"
   ]
  },
  {
   "cell_type": "markdown",
   "id": "ce7d7b84",
   "metadata": {},
   "source": [
    "### Result:\n",
    "* The model is better at identifying non-churners (class 0) than churners (class 1).\n",
    "* Recall for churners is only 36%, indicating the model misses many churners."
   ]
  },
  {
   "cell_type": "markdown",
   "id": "c78535d4",
   "metadata": {},
   "source": [
    "### Next Steps to Improve\n",
    "\n",
    "1. Feature Scaling:\n",
    "Try scaling the features, especially that we have values like `reward_rate`, `credit_score`, and `age`."
   ]
  },
  {
   "cell_type": "markdown",
   "id": "f9bf30f9",
   "metadata": {},
   "source": [
    "## Step 7.1: Scale Features and Refit Logistic Regression"
   ]
  },
  {
   "cell_type": "markdown",
   "id": "f7354bb7",
   "metadata": {},
   "source": [
    "We scale the numerical features to help the model converge and potentially improve performance."
   ]
  },
  {
   "cell_type": "code",
   "execution_count": 11,
   "id": "9bcdb3c1",
   "metadata": {},
   "outputs": [],
   "source": [
    "scaler = StandardScaler()\n",
    "X_scaled = scaler.fit_transform(X)  # Note: `X` was encoded already\n",
    "\n",
    "# Split again after scaling\n",
    "X_train, X_test, y_train, y_test = train_test_split(\n",
    "    X_scaled, y, test_size=0.2, random_state=42, stratify=y\n",
    ")"
   ]
  },
  {
   "cell_type": "code",
   "execution_count": 12,
   "id": "ba442bf1",
   "metadata": {},
   "outputs": [
    {
     "name": "stdout",
     "output_type": "stream",
     "text": [
      "              precision    recall  f1-score   support\n",
      "\n",
      "           0       0.63      0.78      0.69      3074\n",
      "           1       0.54      0.36      0.43      2235\n",
      "\n",
      "    accuracy                           0.60      5309\n",
      "   macro avg       0.58      0.57      0.56      5309\n",
      "weighted avg       0.59      0.60      0.58      5309\n",
      "\n"
     ]
    }
   ],
   "source": [
    "# Train the model again with scaled features\n",
    "model = LogisticRegression(max_iter=2000, random_state=42)\n",
    "model.fit(X_train, y_train)\n",
    "y_pred = model.predict(X_test)\n",
    "\n",
    "from sklearn.metrics import classification_report\n",
    "print(classification_report(y_test, y_pred))"
   ]
  },
  {
   "cell_type": "markdown",
   "id": "3a4251de",
   "metadata": {},
   "source": [
    "### Result:\n",
    "* The scores stayed about the same, but the convergence warning disappeared.\n",
    "* The dataset is likely challenging to classify churners accurately with just logistic regression.\n",
    "* Precision and recall on churners are still low (~0.54 and 0.36).\n",
    "\n",
    "### Next Steps:\n",
    "* Use another model to compare the differences."
   ]
  },
  {
   "cell_type": "markdown",
   "id": "d0feee18",
   "metadata": {},
   "source": [
    "## Step 8: Train Random Forest Model on the Prepared Data"
   ]
  },
  {
   "cell_type": "markdown",
   "id": "0694c622",
   "metadata": {},
   "source": [
    "Next, we use a Random Forest — a more flexible and powerful model. No feature scaling is required."
   ]
  },
  {
   "cell_type": "code",
   "execution_count": 13,
   "id": "6d23903d",
   "metadata": {},
   "outputs": [
    {
     "data": {
      "text/html": [
       "<style>#sk-container-id-1 {\n",
       "  /* Definition of color scheme common for light and dark mode */\n",
       "  --sklearn-color-text: black;\n",
       "  --sklearn-color-line: gray;\n",
       "  /* Definition of color scheme for unfitted estimators */\n",
       "  --sklearn-color-unfitted-level-0: #fff5e6;\n",
       "  --sklearn-color-unfitted-level-1: #f6e4d2;\n",
       "  --sklearn-color-unfitted-level-2: #ffe0b3;\n",
       "  --sklearn-color-unfitted-level-3: chocolate;\n",
       "  /* Definition of color scheme for fitted estimators */\n",
       "  --sklearn-color-fitted-level-0: #f0f8ff;\n",
       "  --sklearn-color-fitted-level-1: #d4ebff;\n",
       "  --sklearn-color-fitted-level-2: #b3dbfd;\n",
       "  --sklearn-color-fitted-level-3: cornflowerblue;\n",
       "\n",
       "  /* Specific color for light theme */\n",
       "  --sklearn-color-text-on-default-background: var(--sg-text-color, var(--theme-code-foreground, var(--jp-content-font-color1, black)));\n",
       "  --sklearn-color-background: var(--sg-background-color, var(--theme-background, var(--jp-layout-color0, white)));\n",
       "  --sklearn-color-border-box: var(--sg-text-color, var(--theme-code-foreground, var(--jp-content-font-color1, black)));\n",
       "  --sklearn-color-icon: #696969;\n",
       "\n",
       "  @media (prefers-color-scheme: dark) {\n",
       "    /* Redefinition of color scheme for dark theme */\n",
       "    --sklearn-color-text-on-default-background: var(--sg-text-color, var(--theme-code-foreground, var(--jp-content-font-color1, white)));\n",
       "    --sklearn-color-background: var(--sg-background-color, var(--theme-background, var(--jp-layout-color0, #111)));\n",
       "    --sklearn-color-border-box: var(--sg-text-color, var(--theme-code-foreground, var(--jp-content-font-color1, white)));\n",
       "    --sklearn-color-icon: #878787;\n",
       "  }\n",
       "}\n",
       "\n",
       "#sk-container-id-1 {\n",
       "  color: var(--sklearn-color-text);\n",
       "}\n",
       "\n",
       "#sk-container-id-1 pre {\n",
       "  padding: 0;\n",
       "}\n",
       "\n",
       "#sk-container-id-1 input.sk-hidden--visually {\n",
       "  border: 0;\n",
       "  clip: rect(1px 1px 1px 1px);\n",
       "  clip: rect(1px, 1px, 1px, 1px);\n",
       "  height: 1px;\n",
       "  margin: -1px;\n",
       "  overflow: hidden;\n",
       "  padding: 0;\n",
       "  position: absolute;\n",
       "  width: 1px;\n",
       "}\n",
       "\n",
       "#sk-container-id-1 div.sk-dashed-wrapped {\n",
       "  border: 1px dashed var(--sklearn-color-line);\n",
       "  margin: 0 0.4em 0.5em 0.4em;\n",
       "  box-sizing: border-box;\n",
       "  padding-bottom: 0.4em;\n",
       "  background-color: var(--sklearn-color-background);\n",
       "}\n",
       "\n",
       "#sk-container-id-1 div.sk-container {\n",
       "  /* jupyter's `normalize.less` sets `[hidden] { display: none; }`\n",
       "     but bootstrap.min.css set `[hidden] { display: none !important; }`\n",
       "     so we also need the `!important` here to be able to override the\n",
       "     default hidden behavior on the sphinx rendered scikit-learn.org.\n",
       "     See: https://github.com/scikit-learn/scikit-learn/issues/21755 */\n",
       "  display: inline-block !important;\n",
       "  position: relative;\n",
       "}\n",
       "\n",
       "#sk-container-id-1 div.sk-text-repr-fallback {\n",
       "  display: none;\n",
       "}\n",
       "\n",
       "div.sk-parallel-item,\n",
       "div.sk-serial,\n",
       "div.sk-item {\n",
       "  /* draw centered vertical line to link estimators */\n",
       "  background-image: linear-gradient(var(--sklearn-color-text-on-default-background), var(--sklearn-color-text-on-default-background));\n",
       "  background-size: 2px 100%;\n",
       "  background-repeat: no-repeat;\n",
       "  background-position: center center;\n",
       "}\n",
       "\n",
       "/* Parallel-specific style estimator block */\n",
       "\n",
       "#sk-container-id-1 div.sk-parallel-item::after {\n",
       "  content: \"\";\n",
       "  width: 100%;\n",
       "  border-bottom: 2px solid var(--sklearn-color-text-on-default-background);\n",
       "  flex-grow: 1;\n",
       "}\n",
       "\n",
       "#sk-container-id-1 div.sk-parallel {\n",
       "  display: flex;\n",
       "  align-items: stretch;\n",
       "  justify-content: center;\n",
       "  background-color: var(--sklearn-color-background);\n",
       "  position: relative;\n",
       "}\n",
       "\n",
       "#sk-container-id-1 div.sk-parallel-item {\n",
       "  display: flex;\n",
       "  flex-direction: column;\n",
       "}\n",
       "\n",
       "#sk-container-id-1 div.sk-parallel-item:first-child::after {\n",
       "  align-self: flex-end;\n",
       "  width: 50%;\n",
       "}\n",
       "\n",
       "#sk-container-id-1 div.sk-parallel-item:last-child::after {\n",
       "  align-self: flex-start;\n",
       "  width: 50%;\n",
       "}\n",
       "\n",
       "#sk-container-id-1 div.sk-parallel-item:only-child::after {\n",
       "  width: 0;\n",
       "}\n",
       "\n",
       "/* Serial-specific style estimator block */\n",
       "\n",
       "#sk-container-id-1 div.sk-serial {\n",
       "  display: flex;\n",
       "  flex-direction: column;\n",
       "  align-items: center;\n",
       "  background-color: var(--sklearn-color-background);\n",
       "  padding-right: 1em;\n",
       "  padding-left: 1em;\n",
       "}\n",
       "\n",
       "\n",
       "/* Toggleable style: style used for estimator/Pipeline/ColumnTransformer box that is\n",
       "clickable and can be expanded/collapsed.\n",
       "- Pipeline and ColumnTransformer use this feature and define the default style\n",
       "- Estimators will overwrite some part of the style using the `sk-estimator` class\n",
       "*/\n",
       "\n",
       "/* Pipeline and ColumnTransformer style (default) */\n",
       "\n",
       "#sk-container-id-1 div.sk-toggleable {\n",
       "  /* Default theme specific background. It is overwritten whether we have a\n",
       "  specific estimator or a Pipeline/ColumnTransformer */\n",
       "  background-color: var(--sklearn-color-background);\n",
       "}\n",
       "\n",
       "/* Toggleable label */\n",
       "#sk-container-id-1 label.sk-toggleable__label {\n",
       "  cursor: pointer;\n",
       "  display: block;\n",
       "  width: 100%;\n",
       "  margin-bottom: 0;\n",
       "  padding: 0.5em;\n",
       "  box-sizing: border-box;\n",
       "  text-align: center;\n",
       "}\n",
       "\n",
       "#sk-container-id-1 label.sk-toggleable__label-arrow:before {\n",
       "  /* Arrow on the left of the label */\n",
       "  content: \"▸\";\n",
       "  float: left;\n",
       "  margin-right: 0.25em;\n",
       "  color: var(--sklearn-color-icon);\n",
       "}\n",
       "\n",
       "#sk-container-id-1 label.sk-toggleable__label-arrow:hover:before {\n",
       "  color: var(--sklearn-color-text);\n",
       "}\n",
       "\n",
       "/* Toggleable content - dropdown */\n",
       "\n",
       "#sk-container-id-1 div.sk-toggleable__content {\n",
       "  max-height: 0;\n",
       "  max-width: 0;\n",
       "  overflow: hidden;\n",
       "  text-align: left;\n",
       "  /* unfitted */\n",
       "  background-color: var(--sklearn-color-unfitted-level-0);\n",
       "}\n",
       "\n",
       "#sk-container-id-1 div.sk-toggleable__content.fitted {\n",
       "  /* fitted */\n",
       "  background-color: var(--sklearn-color-fitted-level-0);\n",
       "}\n",
       "\n",
       "#sk-container-id-1 div.sk-toggleable__content pre {\n",
       "  margin: 0.2em;\n",
       "  border-radius: 0.25em;\n",
       "  color: var(--sklearn-color-text);\n",
       "  /* unfitted */\n",
       "  background-color: var(--sklearn-color-unfitted-level-0);\n",
       "}\n",
       "\n",
       "#sk-container-id-1 div.sk-toggleable__content.fitted pre {\n",
       "  /* unfitted */\n",
       "  background-color: var(--sklearn-color-fitted-level-0);\n",
       "}\n",
       "\n",
       "#sk-container-id-1 input.sk-toggleable__control:checked~div.sk-toggleable__content {\n",
       "  /* Expand drop-down */\n",
       "  max-height: 200px;\n",
       "  max-width: 100%;\n",
       "  overflow: auto;\n",
       "}\n",
       "\n",
       "#sk-container-id-1 input.sk-toggleable__control:checked~label.sk-toggleable__label-arrow:before {\n",
       "  content: \"▾\";\n",
       "}\n",
       "\n",
       "/* Pipeline/ColumnTransformer-specific style */\n",
       "\n",
       "#sk-container-id-1 div.sk-label input.sk-toggleable__control:checked~label.sk-toggleable__label {\n",
       "  color: var(--sklearn-color-text);\n",
       "  background-color: var(--sklearn-color-unfitted-level-2);\n",
       "}\n",
       "\n",
       "#sk-container-id-1 div.sk-label.fitted input.sk-toggleable__control:checked~label.sk-toggleable__label {\n",
       "  background-color: var(--sklearn-color-fitted-level-2);\n",
       "}\n",
       "\n",
       "/* Estimator-specific style */\n",
       "\n",
       "/* Colorize estimator box */\n",
       "#sk-container-id-1 div.sk-estimator input.sk-toggleable__control:checked~label.sk-toggleable__label {\n",
       "  /* unfitted */\n",
       "  background-color: var(--sklearn-color-unfitted-level-2);\n",
       "}\n",
       "\n",
       "#sk-container-id-1 div.sk-estimator.fitted input.sk-toggleable__control:checked~label.sk-toggleable__label {\n",
       "  /* fitted */\n",
       "  background-color: var(--sklearn-color-fitted-level-2);\n",
       "}\n",
       "\n",
       "#sk-container-id-1 div.sk-label label.sk-toggleable__label,\n",
       "#sk-container-id-1 div.sk-label label {\n",
       "  /* The background is the default theme color */\n",
       "  color: var(--sklearn-color-text-on-default-background);\n",
       "}\n",
       "\n",
       "/* On hover, darken the color of the background */\n",
       "#sk-container-id-1 div.sk-label:hover label.sk-toggleable__label {\n",
       "  color: var(--sklearn-color-text);\n",
       "  background-color: var(--sklearn-color-unfitted-level-2);\n",
       "}\n",
       "\n",
       "/* Label box, darken color on hover, fitted */\n",
       "#sk-container-id-1 div.sk-label.fitted:hover label.sk-toggleable__label.fitted {\n",
       "  color: var(--sklearn-color-text);\n",
       "  background-color: var(--sklearn-color-fitted-level-2);\n",
       "}\n",
       "\n",
       "/* Estimator label */\n",
       "\n",
       "#sk-container-id-1 div.sk-label label {\n",
       "  font-family: monospace;\n",
       "  font-weight: bold;\n",
       "  display: inline-block;\n",
       "  line-height: 1.2em;\n",
       "}\n",
       "\n",
       "#sk-container-id-1 div.sk-label-container {\n",
       "  text-align: center;\n",
       "}\n",
       "\n",
       "/* Estimator-specific */\n",
       "#sk-container-id-1 div.sk-estimator {\n",
       "  font-family: monospace;\n",
       "  border: 1px dotted var(--sklearn-color-border-box);\n",
       "  border-radius: 0.25em;\n",
       "  box-sizing: border-box;\n",
       "  margin-bottom: 0.5em;\n",
       "  /* unfitted */\n",
       "  background-color: var(--sklearn-color-unfitted-level-0);\n",
       "}\n",
       "\n",
       "#sk-container-id-1 div.sk-estimator.fitted {\n",
       "  /* fitted */\n",
       "  background-color: var(--sklearn-color-fitted-level-0);\n",
       "}\n",
       "\n",
       "/* on hover */\n",
       "#sk-container-id-1 div.sk-estimator:hover {\n",
       "  /* unfitted */\n",
       "  background-color: var(--sklearn-color-unfitted-level-2);\n",
       "}\n",
       "\n",
       "#sk-container-id-1 div.sk-estimator.fitted:hover {\n",
       "  /* fitted */\n",
       "  background-color: var(--sklearn-color-fitted-level-2);\n",
       "}\n",
       "\n",
       "/* Specification for estimator info (e.g. \"i\" and \"?\") */\n",
       "\n",
       "/* Common style for \"i\" and \"?\" */\n",
       "\n",
       ".sk-estimator-doc-link,\n",
       "a:link.sk-estimator-doc-link,\n",
       "a:visited.sk-estimator-doc-link {\n",
       "  float: right;\n",
       "  font-size: smaller;\n",
       "  line-height: 1em;\n",
       "  font-family: monospace;\n",
       "  background-color: var(--sklearn-color-background);\n",
       "  border-radius: 1em;\n",
       "  height: 1em;\n",
       "  width: 1em;\n",
       "  text-decoration: none !important;\n",
       "  margin-left: 1ex;\n",
       "  /* unfitted */\n",
       "  border: var(--sklearn-color-unfitted-level-1) 1pt solid;\n",
       "  color: var(--sklearn-color-unfitted-level-1);\n",
       "}\n",
       "\n",
       ".sk-estimator-doc-link.fitted,\n",
       "a:link.sk-estimator-doc-link.fitted,\n",
       "a:visited.sk-estimator-doc-link.fitted {\n",
       "  /* fitted */\n",
       "  border: var(--sklearn-color-fitted-level-1) 1pt solid;\n",
       "  color: var(--sklearn-color-fitted-level-1);\n",
       "}\n",
       "\n",
       "/* On hover */\n",
       "div.sk-estimator:hover .sk-estimator-doc-link:hover,\n",
       ".sk-estimator-doc-link:hover,\n",
       "div.sk-label-container:hover .sk-estimator-doc-link:hover,\n",
       ".sk-estimator-doc-link:hover {\n",
       "  /* unfitted */\n",
       "  background-color: var(--sklearn-color-unfitted-level-3);\n",
       "  color: var(--sklearn-color-background);\n",
       "  text-decoration: none;\n",
       "}\n",
       "\n",
       "div.sk-estimator.fitted:hover .sk-estimator-doc-link.fitted:hover,\n",
       ".sk-estimator-doc-link.fitted:hover,\n",
       "div.sk-label-container:hover .sk-estimator-doc-link.fitted:hover,\n",
       ".sk-estimator-doc-link.fitted:hover {\n",
       "  /* fitted */\n",
       "  background-color: var(--sklearn-color-fitted-level-3);\n",
       "  color: var(--sklearn-color-background);\n",
       "  text-decoration: none;\n",
       "}\n",
       "\n",
       "/* Span, style for the box shown on hovering the info icon */\n",
       ".sk-estimator-doc-link span {\n",
       "  display: none;\n",
       "  z-index: 9999;\n",
       "  position: relative;\n",
       "  font-weight: normal;\n",
       "  right: .2ex;\n",
       "  padding: .5ex;\n",
       "  margin: .5ex;\n",
       "  width: min-content;\n",
       "  min-width: 20ex;\n",
       "  max-width: 50ex;\n",
       "  color: var(--sklearn-color-text);\n",
       "  box-shadow: 2pt 2pt 4pt #999;\n",
       "  /* unfitted */\n",
       "  background: var(--sklearn-color-unfitted-level-0);\n",
       "  border: .5pt solid var(--sklearn-color-unfitted-level-3);\n",
       "}\n",
       "\n",
       ".sk-estimator-doc-link.fitted span {\n",
       "  /* fitted */\n",
       "  background: var(--sklearn-color-fitted-level-0);\n",
       "  border: var(--sklearn-color-fitted-level-3);\n",
       "}\n",
       "\n",
       ".sk-estimator-doc-link:hover span {\n",
       "  display: block;\n",
       "}\n",
       "\n",
       "/* \"?\"-specific style due to the `<a>` HTML tag */\n",
       "\n",
       "#sk-container-id-1 a.estimator_doc_link {\n",
       "  float: right;\n",
       "  font-size: 1rem;\n",
       "  line-height: 1em;\n",
       "  font-family: monospace;\n",
       "  background-color: var(--sklearn-color-background);\n",
       "  border-radius: 1rem;\n",
       "  height: 1rem;\n",
       "  width: 1rem;\n",
       "  text-decoration: none;\n",
       "  /* unfitted */\n",
       "  color: var(--sklearn-color-unfitted-level-1);\n",
       "  border: var(--sklearn-color-unfitted-level-1) 1pt solid;\n",
       "}\n",
       "\n",
       "#sk-container-id-1 a.estimator_doc_link.fitted {\n",
       "  /* fitted */\n",
       "  border: var(--sklearn-color-fitted-level-1) 1pt solid;\n",
       "  color: var(--sklearn-color-fitted-level-1);\n",
       "}\n",
       "\n",
       "/* On hover */\n",
       "#sk-container-id-1 a.estimator_doc_link:hover {\n",
       "  /* unfitted */\n",
       "  background-color: var(--sklearn-color-unfitted-level-3);\n",
       "  color: var(--sklearn-color-background);\n",
       "  text-decoration: none;\n",
       "}\n",
       "\n",
       "#sk-container-id-1 a.estimator_doc_link.fitted:hover {\n",
       "  /* fitted */\n",
       "  background-color: var(--sklearn-color-fitted-level-3);\n",
       "}\n",
       "</style><div id=\"sk-container-id-1\" class=\"sk-top-container\"><div class=\"sk-text-repr-fallback\"><pre>RandomForestClassifier(random_state=42)</pre><b>In a Jupyter environment, please rerun this cell to show the HTML representation or trust the notebook. <br />On GitHub, the HTML representation is unable to render, please try loading this page with nbviewer.org.</b></div><div class=\"sk-container\" hidden><div class=\"sk-item\"><div class=\"sk-estimator fitted sk-toggleable\"><input class=\"sk-toggleable__control sk-hidden--visually\" id=\"sk-estimator-id-1\" type=\"checkbox\" checked><label for=\"sk-estimator-id-1\" class=\"sk-toggleable__label fitted sk-toggleable__label-arrow fitted\">&nbsp;&nbsp;RandomForestClassifier<a class=\"sk-estimator-doc-link fitted\" rel=\"noreferrer\" target=\"_blank\" href=\"https://scikit-learn.org/1.5/modules/generated/sklearn.ensemble.RandomForestClassifier.html\">?<span>Documentation for RandomForestClassifier</span></a><span class=\"sk-estimator-doc-link fitted\">i<span>Fitted</span></span></label><div class=\"sk-toggleable__content fitted\"><pre>RandomForestClassifier(random_state=42)</pre></div> </div></div></div></div>"
      ],
      "text/plain": [
       "RandomForestClassifier(random_state=42)"
      ]
     },
     "execution_count": 13,
     "metadata": {},
     "output_type": "execute_result"
    }
   ],
   "source": [
    "# Train a Random Forest model\n",
    "X_train, X_test, y_train, y_test = train_test_split(\n",
    "    X, y, stratify=y, test_size=0.2, random_state=42\n",
    ")\n",
    "\n",
    "rf_model = RandomForestClassifier(random_state=42, n_estimators=100)\n",
    "rf_model.fit(X_train, y_train)"
   ]
  },
  {
   "cell_type": "markdown",
   "id": "42563453",
   "metadata": {},
   "source": [
    "## Step 9: Predict and Evaluate"
   ]
  },
  {
   "cell_type": "code",
   "execution_count": 14,
   "id": "342512ba",
   "metadata": {},
   "outputs": [
    {
     "name": "stdout",
     "output_type": "stream",
     "text": [
      "              precision    recall  f1-score   support\n",
      "\n",
      "           0       0.67      0.78      0.72      3074\n",
      "           1       0.61      0.47      0.53      2235\n",
      "\n",
      "    accuracy                           0.65      5309\n",
      "   macro avg       0.64      0.62      0.62      5309\n",
      "weighted avg       0.64      0.65      0.64      5309\n",
      "\n"
     ]
    }
   ],
   "source": [
    "y_pred = rf_model.predict(X_test)\n",
    "print(classification_report(y_test, y_pred))\n"
   ]
  },
  {
   "cell_type": "markdown",
   "id": "b47e522d",
   "metadata": {},
   "source": [
    "### Result:\n",
    "* The model is catching more churners, which is usually more valuable than simply getting non-churners right.\n",
    "* The Random Forest model is better balanced in precision and recall."
   ]
  },
  {
   "cell_type": "markdown",
   "id": "ab5a3a63",
   "metadata": {},
   "source": [
    "## Step 9: Handle Class Imbalance with class_weight='balanced'"
   ]
  },
  {
   "cell_type": "markdown",
   "id": "15718d49",
   "metadata": {},
   "source": [
    "We adjust the class weights to give more importance to the minority class (churners)."
   ]
  },
  {
   "cell_type": "code",
   "execution_count": 16,
   "id": "52898f62",
   "metadata": {},
   "outputs": [],
   "source": [
    "# Balance Classes Automatically\n",
    "rf_model = RandomForestClassifier(\n",
    "    n_estimators=100,\n",
    "    class_weight='balanced',\n",
    "    random_state=42\n",
    ")"
   ]
  },
  {
   "cell_type": "code",
   "execution_count": 17,
   "id": "cc0a26fb",
   "metadata": {},
   "outputs": [
    {
     "name": "stdout",
     "output_type": "stream",
     "text": [
      "              precision    recall  f1-score   support\n",
      "\n",
      "           0       0.66      0.77      0.71      3074\n",
      "           1       0.59      0.46      0.52      2235\n",
      "\n",
      "    accuracy                           0.64      5309\n",
      "   macro avg       0.63      0.62      0.61      5309\n",
      "weighted avg       0.63      0.64      0.63      5309\n",
      "\n"
     ]
    }
   ],
   "source": [
    "# Fit the model\n",
    "rf_model.fit(X_train, y_train)\n",
    "y_pred = rf_model.predict(X_test)\n",
    "print(classification_report(y_test, y_pred))\n"
   ]
  },
  {
   "cell_type": "markdown",
   "id": "74f95d54",
   "metadata": {},
   "source": [
    "### Results:\n",
    "* Model performance becomes more balanced with a slight improvement in churn detection.\n",
    "* Recall for churners improves from 0.47 → 0.46, but with slightly reduced precision."
   ]
  },
  {
   "cell_type": "markdown",
   "id": "6b8644d8",
   "metadata": {},
   "source": [
    "## Step 10: Feature Importance Visualisation"
   ]
  },
  {
   "cell_type": "markdown",
   "id": "a4168aa1",
   "metadata": {},
   "source": [
    "We examine which features the Random Forest considers most important for predicting churn."
   ]
  },
  {
   "cell_type": "code",
   "execution_count": 19,
   "id": "a6b3cf52",
   "metadata": {},
   "outputs": [
    {
     "data": {
      "image/png": "[encoded data removed]",
      "text/plain": [
       "<Figure size 1000x600 with 1 Axes>"
      ]
     },
     "metadata": {},
     "output_type": "display_data"
    }
   ],
   "source": [
    "import matplotlib.pyplot as plt\n",
    "import seaborn as sns\n",
    "\n",
    "feat_imp = pd.Series(rf_model.feature_importances_, index=X.columns)\n",
    "top_features = feat_imp.sort_values(ascending=False).head(10)\n",
    "\n",
    "plt.figure(figsize=(10,6))\n",
    "sns.barplot(x=top_features, y=top_features.index)\n",
    "plt.title(\"Top 10 Important Features for Churn Prediction\")\n",
    "plt.xlabel(\"Feature Importance\")\n",
    "plt.ylabel(\"Top Predictive Features\")\n",
    "plt.tight_layout()\n",
    "plt.show()\n"
   ]
  },
  {
   "cell_type": "markdown",
   "id": "6ef7c091",
   "metadata": {},
   "source": [
    "### Result: \n",
    "The following features stood out with significantly higher predictive power:\n",
    "* `reward_rate`\n",
    "* `credit_score`\n",
    "* `rewards_earned`\n",
    "* `age`\n",
    "\n",
    "These features had importance scores around 0.15, while the remaining features were much lower."
   ]
  },
  {
   "cell_type": "markdown",
   "id": "03d9f576",
   "metadata": {},
   "source": [
    "## Final Summary & Next Steps\n",
    "\n",
    "* **Best Model**: Random Forest with class balancing performed best in terms of recall and overall balance.\n",
    "* **Top Predictive Features**:\n",
    "`reward_rate`, `credit_score`, `rewards_earned`, and `age` had the largest influence on predicting churn.\n",
    "* **Challenge**: Accurately detecting churners (class 1), though improved with class balancing\n",
    "\n",
    "**Next Steps**:\n",
    "* Try tree-based models like XGBoost or LightGBM\n",
    "* Create a dashboard (e.g., with Streamlit) to show churn prediction results, visualise feature importance and allow user segmentation and filtering."
   ]
  }
 ],
 "metadata": {
  "kernelspec": {
   "display_name": ".venv",
   "language": "python",
   "name": ".venv"
  },
  "language_info": {
   "codemirror_mode": {
    "name": "ipython",
    "version": 3
   },
   "file_extension": ".py",
   "mimetype": "text/x-python",
   "name": "python",
   "nbconvert_exporter": "python",
   "pygments_lexer": "ipython3",
   "version": "3.12.8"
  }
 },
 "nbformat": 4,
 "nbformat_minor": 5
}
